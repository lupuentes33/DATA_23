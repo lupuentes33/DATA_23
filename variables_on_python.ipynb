{
  "nbformat": 4,
  "nbformat_minor": 0,
  "metadata": {
    "colab": {
      "provenance": [],
      "authorship_tag": "ABX9TyNdx0yAmHFML6+nXa7grP3o",
      "include_colab_link": true
    },
    "kernelspec": {
      "name": "python3",
      "display_name": "Python 3"
    },
    "language_info": {
      "name": "python"
    }
  },
  "cells": [
    {
      "cell_type": "markdown",
      "metadata": {
        "id": "view-in-github",
        "colab_type": "text"
      },
      "source": [
        "<a href=\"https://colab.research.google.com/github/lupuentes33/DATA_23/blob/main/variables_on_python.ipynb\" target=\"_parent\"><img src=\"https://colab.research.google.com/assets/colab-badge.svg\" alt=\"Open In Colab\"/></a>"
      ]
    },
    {
      "cell_type": "code",
      "source": [],
      "metadata": {
        "id": "v0JbBqqEpNgK"
      },
      "execution_count": null,
      "outputs": []
    },
    {
      "cell_type": "markdown",
      "source": [
        "#1. What is a variable?\n",
        "A variable is a container, in the sense that it stores values."
      ],
      "metadata": {
        "id": "-OTGSF1CpNso"
      }
    },
    {
      "cell_type": "code",
      "execution_count": 1,
      "metadata": {
        "colab": {
          "base_uri": "https://localhost:8080/"
        },
        "id": "omseC4VSpLTo",
        "outputId": "e8bf055e-96e2-455c-cccc-b108a7f02d72"
      },
      "outputs": [
        {
          "output_type": "stream",
          "name": "stdout",
          "text": [
            "2.57\n"
          ]
        }
      ],
      "source": [
        "# Example\n",
        "\n",
        "a = 2.57\n",
        "print(a)"
      ]
    },
    {
      "cell_type": "code",
      "source": [
        "#Example\n",
        "num = 152.035589855\n",
        "pi  = 0\n",
        "pf  = 7\n",
        "\n",
        "print('The approximation of',num, 'with:')\n",
        "print('Decimals','Result')\n",
        "for i in range(pi,pf+1): \n",
        "  print(i, '\\t', round(num,i))"
      ],
      "metadata": {
        "colab": {
          "base_uri": "https://localhost:8080/"
        },
        "id": "gTu2Fkwxpb6D",
        "outputId": "44a903b5-cf93-4443-e447-846042a57f31"
      },
      "execution_count": 2,
      "outputs": [
        {
          "output_type": "stream",
          "name": "stdout",
          "text": [
            "The approximation of 152.035589855 with:\n",
            "Decimals Result\n",
            "0 \t 152.0\n",
            "1 \t 152.0\n",
            "2 \t 152.04\n",
            "3 \t 152.036\n",
            "4 \t 152.0356\n",
            "5 \t 152.03559\n",
            "6 \t 152.03559\n",
            "7 \t 152.0355899\n"
          ]
        }
      ]
    },
    {
      "cell_type": "markdown",
      "source": [
        "# 3. Delete and clear "
      ],
      "metadata": {
        "id": "tgndf9UTprFW"
      }
    },
    {
      "cell_type": "code",
      "source": [
        "#example - repploace values (especific values)\n",
        "\n",
        "del x, y "
      ],
      "metadata": {
        "id": "o9oNduTrplDg"
      },
      "execution_count": null,
      "outputs": []
    },
    {
      "cell_type": "code",
      "source": [
        "# example - clear (all)\n",
        "\n",
        "%reset\n"
      ],
      "metadata": {
        "colab": {
          "base_uri": "https://localhost:8080/"
        },
        "id": "YGKyFwYiqA99",
        "outputId": "5193f392-cb4a-487b-cb88-bff39f5b5235"
      },
      "execution_count": 3,
      "outputs": [
        {
          "name": "stdout",
          "output_type": "stream",
          "text": [
            "Once deleted, variables cannot be recovered. Proceed (y/[n])? y\n"
          ]
        }
      ]
    },
    {
      "cell_type": "markdown",
      "source": [
        "# **4. naming**"
      ],
      "metadata": {
        "id": "MyQGgGBoqaPk"
      }
    },
    {
      "cell_type": "markdown",
      "source": [
        "# **4.1 conditions and restrictions**"
      ],
      "metadata": {
        "id": "BpXjlpOWqoP9"
      }
    },
    {
      "cell_type": "code",
      "source": [
        "# Example - always a name of variables must start  with a letter\n",
        "\n",
        "age = 18"
      ],
      "metadata": {
        "id": "jjja7usLqzpk"
      },
      "execution_count": 8,
      "outputs": []
    },
    {
      "cell_type": "markdown",
      "source": [
        "## 4.2. best practices \n",
        "* case sensitive "
      ],
      "metadata": {
        "id": "vrc16YwXrMhU"
      }
    },
    {
      "cell_type": "code",
      "source": [
        "# example \n",
        "\n",
        "age = 78 \n",
        "AGE = 23\n",
        "\n",
        "# Sug: always use lower case "
      ],
      "metadata": {
        "id": "LlvGkOUlrMQ0"
      },
      "execution_count": 5,
      "outputs": []
    },
    {
      "cell_type": "markdown",
      "source": [
        "* componed names "
      ],
      "metadata": {
        "id": "f-7pK8fcrxvB"
      }
    },
    {
      "cell_type": "code",
      "source": [
        "# example (take care space)\n",
        "\n",
        "price_jean = 150000\n"
      ],
      "metadata": {
        "id": "LZR9mh6qru8u"
      },
      "execution_count": 9,
      "outputs": []
    },
    {
      "cell_type": "markdown",
      "source": [
        "# **5. data types**"
      ],
      "metadata": {
        "id": "UREwx4MGsYMT"
      }
    },
    {
      "cell_type": "markdown",
      "source": [
        "5.1 integers "
      ],
      "metadata": {
        "id": "2PSpNNPbskBw"
      }
    },
    {
      "cell_type": "markdown",
      "source": [
        "5.2 float "
      ],
      "metadata": {
        "id": "Sbb-TgTKshHp"
      }
    },
    {
      "cell_type": "markdown",
      "source": [
        "**parenthesis**: a trick  "
      ],
      "metadata": {
        "id": "Q3a7h2cXsroj"
      }
    },
    {
      "cell_type": "code",
      "source": [
        "# example set up \n",
        "\n",
        "w = 0\n"
      ],
      "metadata": {
        "id": "8vIzpuuHs8_o"
      },
      "execution_count": 17,
      "outputs": []
    },
    {
      "cell_type": "code",
      "source": [
        "# example \n",
        "\n",
        "w += 1 \n",
        "\n",
        "print(w)"
      ],
      "metadata": {
        "id": "mMeSDagEtYd3"
      },
      "execution_count": null,
      "outputs": []
    },
    {
      "cell_type": "code",
      "source": [
        "# example \n",
        "name = universidad de la salle\n",
        "print(name)"
      ],
      "metadata": {
        "id": "uCa0nO2StvFw"
      },
      "execution_count": null,
      "outputs": []
    },
    {
      "cell_type": "code",
      "source": [
        "name[11]"
      ],
      "metadata": {
        "id": "IdwzhT1buI4V"
      },
      "execution_count": null,
      "outputs": []
    },
    {
      "cell_type": "markdown",
      "source": [],
      "metadata": {
        "id": "VBCQjiH8s8K7"
      }
    },
    {
      "cell_type": "code",
      "source": [
        "name.split()  "
      ],
      "metadata": {
        "id": "UCTd9spFur39"
      },
      "execution_count": null,
      "outputs": []
    }
  ]
}