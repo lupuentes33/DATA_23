{
  "nbformat": 4,
  "nbformat_minor": 0,
  "metadata": {
    "colab": {
      "provenance": [],
      "include_colab_link": true
    },
    "kernelspec": {
      "name": "python3",
      "display_name": "Python 3"
    },
    "language_info": {
      "name": "python"
    }
  },
  "cells": [
    {
      "cell_type": "markdown",
      "metadata": {
        "id": "view-in-github",
        "colab_type": "text"
      },
      "source": [
        "<a href=\"https://colab.research.google.com/github/lupuentes33/DATA_23/blob/main/Workshop_2.ipynb\" target=\"_parent\"><img src=\"https://colab.research.google.com/assets/colab-badge.svg\" alt=\"Open In Colab\"/></a>"
      ]
    },
    {
      "cell_type": "markdown",
      "source": [
        "<h1 align = \"center\">\n",
        "<strong> Universidad de La Salle </strong>\n",
        "</h1>\n",
        "\n",
        "<h1 align = \"center\">\n",
        "<strong> Finance and International Commerce Program </strong>\n",
        "</h1>\n",
        "\n",
        "<h1 align = \"center\">\n",
        "<strong> Data Visualization - Workshop 2 </strong>\n",
        "</h1>\n"
      ],
      "metadata": {
        "id": "BJolccUZSw9G"
      }
    },
    {
      "cell_type": "markdown",
      "source": [
        "# **Instructions**\n",
        "\n",
        "1. Please read carefully the document. Ask all the questions you may have.\n",
        "2. Save this file in your Google Drive.\n",
        "3. DO NOT alter any cell unless it specifically ask you to do it.\n",
        "4. You will have **two hours** (until 11am) maximum to finish and deliver this workshop.\n",
        "5. You can use any help you want: your notes, your codes, internet, classmates.\n",
        "6. Nevertheless, the workshop must be presented individually.\n",
        "7. Once you have finish, save a copy in your GitHub class repository.\n",
        "8. The deliver process is as follows:\n",
        "    \n",
        "    8.1. Via email you will send the link to the GitHub location.\n",
        "    \n",
        "    8.2. In the same mail, just for safety, you will attach a copy of your `.ipynb` file.\n",
        "    \n",
        "    8.3. The email must have the subject: \"W2 DV\".   "
      ],
      "metadata": {
        "id": "pLRc5RAyWsre"
      }
    },
    {
      "cell_type": "markdown",
      "source": [
        "# **To keep in mind**\n",
        "\n",
        "* The excercises propouse are intended to **push** you a little futher in your Pyton skills.\n",
        "* This means that there are going to be exercises above the level seen in class.\n",
        "* The idea is to incentive your creative thinking and solving problem skills.\n",
        "* As always there several ways to do the excersice. But in this case, I ask you to use only the tools we learned.\n",
        "* I ask you to trust me. Give your best effort. Grades do not matter here. "
      ],
      "metadata": {
        "id": "4QKdNKujZEbk"
      }
    },
    {
      "cell_type": "markdown",
      "source": [
        "# **Exercise**\n",
        "\n",
        "**Roulette!**\n",
        "\n",
        "Let's simulate a casino game.\n",
        "Specifically, a single-zero (french) roulette.\n",
        "\n",
        "This game consists on rolling a ball over a wheel with number pockets.\n",
        "\n",
        "[Game](https://image.shutterstock.com/image-illustration/casino-roulette-wheel-chips-on-600w-1288790665.jpg)\n",
        "\n",
        "There are several ways to bet on this game, you have to code a few."
      ],
      "metadata": {
        "id": "2kRoSKUmaGl9"
      }
    },
    {
      "cell_type": "code",
      "source": [
        "import numpy as np"
      ],
      "metadata": {
        "id": "8lMuVMe0iwhw"
      },
      "execution_count": 1,
      "outputs": []
    },
    {
      "cell_type": "markdown",
      "source": [
        "## Ex 1 - Number Bet \n",
        "\n",
        "You can bet on any number between 0 and 36.\n",
        "You win if the result is the number you bet on.\n",
        "In any other case, you lose.\n",
        "\n",
        "Write the appropiate the code to reflect this process. \n",
        "\n",
        "The result must show the bet made, the result obtained and if you win or lose."
      ],
      "metadata": {
        "id": "PYIRNu3imJ_n"
      }
    },
    {
      "cell_type": "code",
      "execution_count": 44,
      "metadata": {
        "id": "9TaC9734lQMI",
        "outputId": "1bcf4a5a-0794-4775-c115-cd1d9f67d71e",
        "colab": {
          "base_uri": "https://localhost:8080/"
        }
      },
      "outputs": [
        {
          "output_type": "stream",
          "name": "stdout",
          "text": [
            "4\n",
            "YOU LOSE\n"
          ]
        }
      ],
      "source": [
        "# Answ. Ex 1\n",
        "\n",
        "#1 STEP, SELECT THE NUMBER YOU WANT TO BET ON IS: \n",
        "nb= 27\n",
        "number = np.random.randint(low = 0, high = 37)\n",
        "print(number)\n",
        "\n",
        "if number == nb:\n",
        "    print(\"YOU WIN\")\n",
        "\n",
        "else:    \n",
        "    print(\"YOU LOSE\")\n"
      ]
    },
    {
      "cell_type": "markdown",
      "source": [
        "## Ex 2 - Color Bet\n",
        "\n",
        "Each color has an associated color. Zero is neutral.\n",
        "\n",
        "And the rest of the numbers vary between black and red (see the previous image).\n",
        "\n",
        "Write the appropiate code to simulate a random round of Roulette using only the color bet (black or white).\n",
        "\n",
        "The result must show the bet made, the result obtained and if you win or lose.\n",
        "\n",
        "*Tip: first define when you lose and when you win.*"
      ],
      "metadata": {
        "id": "LAdWe8iEaL7B"
      }
    },
    {
      "cell_type": "code",
      "execution_count": 92,
      "metadata": {
        "id": "rw792kISSt3n",
        "outputId": "b0ca4720-f0b9-4c88-ec2d-b17ef03edbcc",
        "colab": {
          "base_uri": "https://localhost:8080/"
        }
      },
      "outputs": [
        {
          "output_type": "stream",
          "name": "stdout",
          "text": [
            "your bet color is: black\n",
            "black\n",
            "You win\n"
          ]
        }
      ],
      "source": [
        "# Answ. Ex 2\n",
        "# (write your code below)\n",
        "\n",
        "# 1 step, identify and organice the numbers with respect to their color  \n",
        "NEUTRAL_GREEN =[0]\n",
        "NUMBER_RED=[1,3,5,7,9,12,14,16,18,20,21,23,25,27,29,31,32,34,36]\n",
        "NUMBER_BLACK =[2,4,6,8,10,11,13,15,17,19,22,24,26,28,30,33,35]\n",
        "\n",
        "#2 step, after start to code\n",
        "\n",
        "# i select color black to this exercise \n",
        "color_bet= \"black\"\n",
        "print(\"your bet color is:\", color_bet)\n",
        "\n",
        "cr = np.random.rand()\n",
        "if cr < 0.49:\n",
        "   print('black')\n",
        "   a=-1\n",
        "elif 0.49 <cr < 0.98:\n",
        "   print('red')\n",
        "   a=1\n",
        "else: \n",
        "   print(\"neutral\")\n",
        "   a=0\n",
        "\n",
        "if color_bet ==\"red\" and a == 1.:\n",
        "  print('You win')\n",
        "elif color_bet == \"black\" and a == -1:\n",
        "  print('You win')\n",
        "else:\n",
        "  print(\"you lose\")  \n",
        " "
      ]
    },
    {
      "cell_type": "markdown",
      "source": [
        "## Ex 3 - Dozens Bet\n",
        "\n",
        "Given the 3 groups:\n",
        "\n",
        "A -> numbers between 1 and 12.\n",
        "B -> numbers between 13 and 24.\n",
        "C -> numbers between 25 and 36. \n",
        "\n",
        "Write the appropiate code to print the result of betting exclusively with dozens.\n",
        "\n",
        "The result must show the bet made, the result obtained and if you win or lose.\n",
        "\n",
        "*Tip: Note that zero is not in the groups but it is a possible result.*"
      ],
      "metadata": {
        "id": "YFsGiwcNfgzP"
      }
    },
    {
      "cell_type": "code",
      "source": [
        "from traitlets import dlink\n",
        "# Answ. Ex 3 \n",
        "# (write your code below)\n",
        "\n",
        "\n",
        "\n",
        "dl = \"A\"\n",
        "da =np.random.randint(low = 0, high = 37)\n",
        "if 1 < da < 12:\n",
        "    print(\"A\")\n",
        "    b=-1\n",
        "elif  13 < da < 24:\n",
        "    print(\"B\")\n",
        "    b=1\n",
        "else:\n",
        "    print(\"C\")\n",
        "    b=0\n",
        "\n",
        "if dl == \"A\" and b == 1:\n",
        "  print('You win')\n",
        "elif dl == \"B\" and b == -1:\n",
        "  print('You win')\n",
        "else:\n",
        "  print('You lose')\n",
        "\n",
        "\n"
      ],
      "metadata": {
        "id": "Dwdsh30Ti3vl",
        "outputId": "a7a7c74d-bc42-42e1-c724-654c73efdd1c",
        "colab": {
          "base_uri": "https://localhost:8080/"
        }
      },
      "execution_count": 103,
      "outputs": [
        {
          "output_type": "stream",
          "name": "stdout",
          "text": [
            "C\n",
            "You lose\n"
          ]
        }
      ]
    },
    {
      "cell_type": "markdown",
      "source": [
        "## Ex 4 - Putting everything together\n",
        "\n",
        "Write the code that simulate a random game of Roulette where the person can bet on: Number, Color, Dozen or any combination she or he wants.\n",
        "\n",
        "The result must show the bet made, the result obtained and if you win or lose."
      ],
      "metadata": {
        "id": "RSyiV1UPlVcJ"
      }
    },
    {
      "cell_type": "code",
      "source": [
        "# Answ. Ex 4\n",
        "# (write your code below)"
      ],
      "metadata": {
        "id": "FQU_vc_5sse0"
      },
      "execution_count": null,
      "outputs": []
    },
    {
      "cell_type": "code",
      "source": [
        "NEUTRAL_GREEN =[0]\n",
        "NUMBER_RED=[1,3,5,7,9,12,14,16,18,20,21,23,25,27,29,31,32,34,36]\n",
        "NUMBER_BLACK =[2,4,6,8,10,11,13,15,17,19,22,24,26,28,30,33,35]\n"
      ],
      "metadata": {
        "id": "hkP4JNFHBwsh"
      },
      "execution_count": null,
      "outputs": []
    }
  ]
}