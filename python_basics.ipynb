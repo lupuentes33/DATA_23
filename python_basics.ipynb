{
  "nbformat": 4,
  "nbformat_minor": 0,
  "metadata": {
    "colab": {
      "provenance": [],
      "authorship_tag": "ABX9TyNsiCqx7HVjrxNKvKj8MXcJ",
      "include_colab_link": true
    },
    "kernelspec": {
      "name": "python3",
      "display_name": "Python 3"
    },
    "language_info": {
      "name": "python"
    }
  },
  "cells": [
    {
      "cell_type": "markdown",
      "metadata": {
        "id": "view-in-github",
        "colab_type": "text"
      },
      "source": [
        "<a href=\"https://colab.research.google.com/github/lupuentes33/DATA_23/blob/main/python_basics.ipynb\" target=\"_parent\"><img src=\"https://colab.research.google.com/assets/colab-badge.svg\" alt=\"Open In Colab\"/></a>"
      ]
    },
    {
      "cell_type": "markdown",
      "source": [
        "#1. What is python?\n",
        "\n",
        "it was created in 1991 and it is a **general-purposue progaming language**\n",
        "\n",
        "This meansthat python is used for \n",
        "\n",
        "* Data visualization\n",
        "\n",
        "* Automating task\n",
        "\n",
        "* Machinne Learning \n",
        "\n",
        "* optiization \n",
        "\n",
        "* web deveploment \n",
        "\n",
        "* user interfaces creation \n",
        "\n",
        "* Create another sofware \n",
        "\n",
        "* create video games\n",
        "\n",
        "\n"
      ],
      "metadata": {
        "id": "hs3yPFHQlpmp"
      }
    },
    {
      "cell_type": "markdown",
      "source": [
        "# 2. Why python?\n",
        "\n",
        "The main reasons:\n",
        "\n",
        "* It is simple\n",
        "* Focus \n",
        "* Easy to learn \n",
        "* open- source: it is free\n",
        "* Cros- platform \n",
        "* Extensive libraries\n",
        "\n"
      ],
      "metadata": {
        "id": "KtxT-XVfmpnN"
      }
    },
    {
      "cell_type": "markdown",
      "source": [
        "#3. Getting Started \n"
      ],
      "metadata": {
        "id": "1fEA31Mxm3Iw"
      }
    },
    {
      "cell_type": "markdown",
      "source": [
        "#3.1 Python as a calculator \n"
      ],
      "metadata": {
        "id": "4KyzXwVUm8Or"
      }
    },
    {
      "cell_type": "code",
      "execution_count": 2,
      "metadata": {
        "colab": {
          "base_uri": "https://localhost:8080/"
        },
        "id": "6XXMMX5RlU8u",
        "outputId": "06dcdda3-66f4-4877-8350-0b2ada87fefe"
      },
      "outputs": [
        {
          "output_type": "execute_result",
          "data": {
            "text/plain": [
              "4"
            ]
          },
          "metadata": {},
          "execution_count": 2
        }
      ],
      "source": [
        "# Addition \n",
        "2 + 2"
      ]
    },
    {
      "cell_type": "code",
      "source": [
        "#  subtraction \n",
        "23 - 7"
      ],
      "metadata": {
        "colab": {
          "base_uri": "https://localhost:8080/"
        },
        "id": "7UaKhBWhoI7J",
        "outputId": "0978accc-9ec2-4ce2-c479-dc9ca256c577"
      },
      "execution_count": 3,
      "outputs": [
        {
          "output_type": "execute_result",
          "data": {
            "text/plain": [
              "16"
            ]
          },
          "metadata": {},
          "execution_count": 3
        }
      ]
    },
    {
      "cell_type": "code",
      "source": [
        "# Multiplication \n",
        "13 * 7"
      ],
      "metadata": {
        "colab": {
          "base_uri": "https://localhost:8080/"
        },
        "id": "-xE87c3joSz0",
        "outputId": "2b728430-dafe-4475-f919-93a1260988d7"
      },
      "execution_count": 4,
      "outputs": [
        {
          "output_type": "execute_result",
          "data": {
            "text/plain": [
              "91"
            ]
          },
          "metadata": {},
          "execution_count": 4
        }
      ]
    },
    {
      "cell_type": "code",
      "source": [
        "# Division \n",
        "10 / 3"
      ],
      "metadata": {
        "colab": {
          "base_uri": "https://localhost:8080/"
        },
        "id": "TVgSLZd3oaCM",
        "outputId": "db90adf7-67d6-4b64-df18-833f94033917"
      },
      "execution_count": 5,
      "outputs": [
        {
          "output_type": "execute_result",
          "data": {
            "text/plain": [
              "3.3333333333333335"
            ]
          },
          "metadata": {},
          "execution_count": 5
        }
      ]
    },
    {
      "cell_type": "code",
      "source": [
        "#integer Division \n",
        "10 // 3\n"
      ],
      "metadata": {
        "colab": {
          "base_uri": "https://localhost:8080/"
        },
        "id": "FhB2gF9poqni",
        "outputId": "ca2f6e74-bca6-4e25-d3e8-78eac54a45e9"
      },
      "execution_count": 6,
      "outputs": [
        {
          "output_type": "execute_result",
          "data": {
            "text/plain": [
              "3"
            ]
          },
          "metadata": {},
          "execution_count": 6
        }
      ]
    }
  ]
}