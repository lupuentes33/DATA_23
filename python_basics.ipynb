{
  "nbformat": 4,
  "nbformat_minor": 0,
  "metadata": {
    "colab": {
      "provenance": [],
      "authorship_tag": "ABX9TyOkIqSkbfXQd1DVSIBIx3BH",
      "include_colab_link": true
    },
    "kernelspec": {
      "name": "python3",
      "display_name": "Python 3"
    },
    "language_info": {
      "name": "python"
    }
  },
  "cells": [
    {
      "cell_type": "markdown",
      "metadata": {
        "id": "view-in-github",
        "colab_type": "text"
      },
      "source": [
        "<a href=\"https://colab.research.google.com/github/lupuentes33/DATA_23/blob/main/python_basics.ipynb\" target=\"_parent\"><img src=\"https://colab.research.google.com/assets/colab-badge.svg\" alt=\"Open In Colab\"/></a>"
      ]
    },
    {
      "cell_type": "markdown",
      "source": [
        "#1. What is python?\n",
        "\n",
        "it was created in 1991 and it is a **general-purposue progaming language**\n",
        "\n",
        "This meansthat python is used for \n",
        "\n",
        "* Data visualization\n",
        "\n",
        "* Automating task\n",
        "\n",
        "* Machinne Learning \n",
        "\n",
        "* optiization \n",
        "\n",
        "* web deveploment \n",
        "\n",
        "* user interfaces creation \n",
        "\n",
        "* Create another sofware \n",
        "\n",
        "* create video games\n",
        "\n",
        "\n"
      ],
      "metadata": {
        "id": "hs3yPFHQlpmp"
      }
    },
    {
      "cell_type": "markdown",
      "source": [
        "# 2. Why python?\n",
        "\n",
        "The main reasons:\n",
        "\n",
        "* It is simple\n",
        "* Focus \n",
        "* Easy to learn \n",
        "* open- source: it is free\n",
        "* Cros- platform \n",
        "* Extensive libraries\n",
        "\n"
      ],
      "metadata": {
        "id": "KtxT-XVfmpnN"
      }
    },
    {
      "cell_type": "markdown",
      "source": [
        "#3. Getting Started \n"
      ],
      "metadata": {
        "id": "1fEA31Mxm3Iw"
      }
    },
    {
      "cell_type": "markdown",
      "source": [
        "#3.1 Python as a calculator \n"
      ],
      "metadata": {
        "id": "4KyzXwVUm8Or"
      }
    },
    {
      "cell_type": "code",
      "execution_count": null,
      "metadata": {
        "colab": {
          "base_uri": "https://localhost:8080/"
        },
        "id": "6XXMMX5RlU8u",
        "outputId": "06dcdda3-66f4-4877-8350-0b2ada87fefe"
      },
      "outputs": [
        {
          "output_type": "execute_result",
          "data": {
            "text/plain": [
              "4"
            ]
          },
          "metadata": {},
          "execution_count": 2
        }
      ],
      "source": [
        "# Addition \n",
        "2 + 2"
      ]
    },
    {
      "cell_type": "code",
      "source": [
        "#  subtraction \n",
        "23 - 7"
      ],
      "metadata": {
        "colab": {
          "base_uri": "https://localhost:8080/"
        },
        "id": "7UaKhBWhoI7J",
        "outputId": "0978accc-9ec2-4ce2-c479-dc9ca256c577"
      },
      "execution_count": null,
      "outputs": [
        {
          "output_type": "execute_result",
          "data": {
            "text/plain": [
              "16"
            ]
          },
          "metadata": {},
          "execution_count": 3
        }
      ]
    },
    {
      "cell_type": "code",
      "source": [
        "# Multiplication \n",
        "13 * 7"
      ],
      "metadata": {
        "colab": {
          "base_uri": "https://localhost:8080/"
        },
        "id": "-xE87c3joSz0",
        "outputId": "2b728430-dafe-4475-f919-93a1260988d7"
      },
      "execution_count": null,
      "outputs": [
        {
          "output_type": "execute_result",
          "data": {
            "text/plain": [
              "91"
            ]
          },
          "metadata": {},
          "execution_count": 4
        }
      ]
    },
    {
      "cell_type": "code",
      "source": [
        "# Division \n",
        "10 / 3"
      ],
      "metadata": {
        "colab": {
          "base_uri": "https://localhost:8080/"
        },
        "id": "TVgSLZd3oaCM",
        "outputId": "db90adf7-67d6-4b64-df18-833f94033917"
      },
      "execution_count": null,
      "outputs": [
        {
          "output_type": "execute_result",
          "data": {
            "text/plain": [
              "3.3333333333333335"
            ]
          },
          "metadata": {},
          "execution_count": 5
        }
      ]
    },
    {
      "cell_type": "code",
      "source": [
        "#integer Division \n",
        "10 // 3\n"
      ],
      "metadata": {
        "colab": {
          "base_uri": "https://localhost:8080/"
        },
        "id": "FhB2gF9poqni",
        "outputId": "ca2f6e74-bca6-4e25-d3e8-78eac54a45e9"
      },
      "execution_count": null,
      "outputs": [
        {
          "output_type": "execute_result",
          "data": {
            "text/plain": [
              "3"
            ]
          },
          "metadata": {},
          "execution_count": 6
        }
      ]
    },
    {
      "cell_type": "code",
      "source": [
        "\n",
        "2**3\n"
      ],
      "metadata": {
        "colab": {
          "base_uri": "https://localhost:8080/"
        },
        "id": "VfSOZRQAh_-F",
        "outputId": "adc1a573-dd94-497d-f227-abe8d8983395"
      },
      "execution_count": 3,
      "outputs": [
        {
          "output_type": "execute_result",
          "data": {
            "text/plain": [
              "8"
            ]
          },
          "metadata": {},
          "execution_count": 3
        }
      ]
    },
    {
      "cell_type": "markdown",
      "source": [
        "composite operations and paranthesis \n"
      ],
      "metadata": {
        "id": "kwkQmrJ4iREG"
      }
    },
    {
      "cell_type": "code",
      "source": [
        "#example \n",
        "(2 + 3)*4"
      ],
      "metadata": {
        "colab": {
          "base_uri": "https://localhost:8080/"
        },
        "id": "q8m4CeqdiRk2",
        "outputId": "adfd7070-c38e-459a-ecee-d398ff2074ea"
      },
      "execution_count": 4,
      "outputs": [
        {
          "output_type": "execute_result",
          "data": {
            "text/plain": [
              "20"
            ]
          },
          "metadata": {},
          "execution_count": 4
        }
      ]
    },
    {
      "cell_type": "markdown",
      "source": [
        "## 3.3 integers and real numbers \n",
        "integers: dont have decimals , but can be positive and negative \n",
        "\n",
        "type(26)\n"
      ],
      "metadata": {
        "id": "7Hoz9BOWiswu"
      }
    },
    {
      "cell_type": "markdown",
      "source": [
        "##### integer can be and integer in the oppperation except in division \n"
      ],
      "metadata": {
        "id": "WvE5PoC-lWsh"
      }
    },
    {
      "cell_type": "code",
      "source": [
        "# interger (with no decimal possition)\n",
        "type(26)\n"
      ],
      "metadata": {
        "colab": {
          "base_uri": "https://localhost:8080/"
        },
        "id": "7NpK6JcvitOC",
        "outputId": "44edb593-820d-4dad-81fd-9b72f1724594"
      },
      "execution_count": 5,
      "outputs": [
        {
          "output_type": "execute_result",
          "data": {
            "text/plain": [
              "int"
            ]
          },
          "metadata": {},
          "execution_count": 5
        }
      ]
    },
    {
      "cell_type": "code",
      "source": [
        "#real number (with decimal possitions)\n",
        "type(26.0)\n"
      ],
      "metadata": {
        "colab": {
          "base_uri": "https://localhost:8080/"
        },
        "id": "NBUL9rGjkGs2",
        "outputId": "a9813f7c-b074-4f5c-cdbf-e3145fdb0e9c"
      },
      "execution_count": 8,
      "outputs": [
        {
          "output_type": "execute_result",
          "data": {
            "text/plain": [
              "float"
            ]
          },
          "metadata": {},
          "execution_count": 8
        }
      ]
    },
    {
      "cell_type": "code",
      "source": [
        "# Examples \n",
        "# find out if the next expressions are int or float \n",
        "type(2 + 3.0)\n",
        "type(2.5*7)\n",
        "type(4.0/2)\n"
      ],
      "metadata": {
        "colab": {
          "base_uri": "https://localhost:8080/"
        },
        "id": "IITkJy6NkckD",
        "outputId": "15942438-aa5b-4c59-e588-aedfe25c502e"
      },
      "execution_count": 11,
      "outputs": [
        {
          "output_type": "execute_result",
          "data": {
            "text/plain": [
              "float"
            ]
          },
          "metadata": {},
          "execution_count": 11
        }
      ]
    },
    {
      "cell_type": "code",
      "source": [
        "type(2.5*7)"
      ],
      "metadata": {
        "colab": {
          "base_uri": "https://localhost:8080/"
        },
        "id": "r3gjEcyak9LC",
        "outputId": "c7e5b8e5-a6d4-4995-ed0d-4f6e2d28b2cd"
      },
      "execution_count": 12,
      "outputs": [
        {
          "output_type": "execute_result",
          "data": {
            "text/plain": [
              "float"
            ]
          },
          "metadata": {},
          "execution_count": 12
        }
      ]
    },
    {
      "cell_type": "code",
      "source": [
        "type(4.0/2)"
      ],
      "metadata": {
        "colab": {
          "base_uri": "https://localhost:8080/"
        },
        "id": "5XrsYXX6lFbt",
        "outputId": "f0613f94-c627-4066-c2af-5e2ea4e0beb8"
      },
      "execution_count": 13,
      "outputs": [
        {
          "output_type": "execute_result",
          "data": {
            "text/plain": [
              "float"
            ]
          },
          "metadata": {},
          "execution_count": 13
        }
      ]
    },
    {
      "cell_type": "markdown",
      "source": [
        "### scientific notation \n"
      ],
      "metadata": {
        "id": "lmlynT5cliWQ"
      }
    },
    {
      "cell_type": "code",
      "source": [
        "# exmaple \n",
        "5e1"
      ],
      "metadata": {
        "colab": {
          "base_uri": "https://localhost:8080/"
        },
        "id": "Jbr52LEZlPU2",
        "outputId": "cffef517-1322-41fa-dc6a-c47362e19a79"
      },
      "execution_count": 14,
      "outputs": [
        {
          "output_type": "execute_result",
          "data": {
            "text/plain": [
              "50.0"
            ]
          },
          "metadata": {},
          "execution_count": 14
        }
      ]
    },
    {
      "cell_type": "code",
      "source": [
        "6e-2\n"
      ],
      "metadata": {
        "colab": {
          "base_uri": "https://localhost:8080/"
        },
        "id": "dxxzIUD3oG7a",
        "outputId": "e4c9c9ff-ac80-4997-e110-592d87906910"
      },
      "execution_count": 15,
      "outputs": [
        {
          "output_type": "execute_result",
          "data": {
            "text/plain": [
              "0.06"
            ]
          },
          "metadata": {},
          "execution_count": 15
        }
      ]
    },
    {
      "cell_type": "code",
      "source": [
        "type(5e1)"
      ],
      "metadata": {
        "colab": {
          "base_uri": "https://localhost:8080/"
        },
        "id": "bonFVYIboTZI",
        "outputId": "f42c3467-730a-4b0f-c80e-f74a33ea2f45"
      },
      "execution_count": 16,
      "outputs": [
        {
          "output_type": "execute_result",
          "data": {
            "text/plain": [
              "float"
            ]
          },
          "metadata": {},
          "execution_count": 16
        }
      ]
    },
    {
      "cell_type": "code",
      "source": [
        "# practice\n",
        "# write million in scientific notation \n",
        "# what is the result of 3e0.2"
      ],
      "metadata": {
        "id": "RpIoUcAhodBt"
      },
      "execution_count": null,
      "outputs": []
    },
    {
      "cell_type": "code",
      "source": [
        "# write million in scientific notation\n",
        "1e6\n",
        "\n",
        "\n"
      ],
      "metadata": {
        "colab": {
          "base_uri": "https://localhost:8080/"
        },
        "id": "KAj0rv1iowrL",
        "outputId": "a52eb05d-84a8-4ff8-a3f7-1709d469e7ed"
      },
      "execution_count": 21,
      "outputs": [
        {
          "output_type": "execute_result",
          "data": {
            "text/plain": [
              "1000000.0"
            ]
          },
          "metadata": {},
          "execution_count": 21
        }
      ]
    },
    {
      "cell_type": "code",
      "source": [
        "# what is the result of \n",
        "3e02\n"
      ],
      "metadata": {
        "colab": {
          "base_uri": "https://localhost:8080/"
        },
        "id": "NoTfqRtvoz9A",
        "outputId": "0ddaeb15-7701-49ee-9a8d-761e27b057e3"
      },
      "execution_count": 23,
      "outputs": [
        {
          "output_type": "execute_result",
          "data": {
            "text/plain": [
              "300.0"
            ]
          },
          "metadata": {},
          "execution_count": 23
        }
      ]
    },
    {
      "cell_type": "markdown",
      "source": [
        "### transformation \n",
        "you can change the type() ofr a numbre or you can force a type() of a number \n"
      ],
      "metadata": {
        "id": "FY5wWkuNqQqv"
      }
    },
    {
      "cell_type": "code",
      "source": [
        "# Example \n",
        "float(6)"
      ],
      "metadata": {
        "colab": {
          "base_uri": "https://localhost:8080/"
        },
        "id": "4w4FSpIsqQAs",
        "outputId": "d5cb0ca1-e2c7-4853-d420-d1601151c9d8"
      },
      "execution_count": 24,
      "outputs": [
        {
          "output_type": "execute_result",
          "data": {
            "text/plain": [
              "6.0"
            ]
          },
          "metadata": {},
          "execution_count": 24
        }
      ]
    },
    {
      "cell_type": "code",
      "source": [
        "int(3.33333)"
      ],
      "metadata": {
        "colab": {
          "base_uri": "https://localhost:8080/"
        },
        "id": "n0_5LCxZqpiR",
        "outputId": "dc3778e6-ddc1-4cee-e0e3-dcc7aa558f59"
      },
      "execution_count": 25,
      "outputs": [
        {
          "output_type": "execute_result",
          "data": {
            "text/plain": [
              "3"
            ]
          },
          "metadata": {},
          "execution_count": 25
        }
      ]
    },
    {
      "cell_type": "code",
      "source": [],
      "metadata": {
        "id": "mhCsTd9Bqu6f"
      },
      "execution_count": null,
      "outputs": []
    }
  ]
}