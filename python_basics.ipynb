{
  "nbformat": 4,
  "nbformat_minor": 0,
  "metadata": {
    "colab": {
      "provenance": [],
      "authorship_tag": "ABX9TyMAahtkMKetFK82W0LlP0qe",
      "include_colab_link": true
    },
    "kernelspec": {
      "name": "python3",
      "display_name": "Python 3"
    },
    "language_info": {
      "name": "python"
    }
  },
  "cells": [
    {
      "cell_type": "markdown",
      "metadata": {
        "id": "view-in-github",
        "colab_type": "text"
      },
      "source": [
        "<a href=\"https://colab.research.google.com/github/lupuentes33/DATA_23/blob/main/python_basics.ipynb\" target=\"_parent\"><img src=\"https://colab.research.google.com/assets/colab-badge.svg\" alt=\"Open In Colab\"/></a>"
      ]
    },
    {
      "cell_type": "markdown",
      "source": [
        "#1. What is python?\n",
        "\n",
        "it was created in 1991 and it is a **general-purposue progaming language**\n",
        "\n",
        "This meansthat python is used for \n",
        "\n",
        "* Data visualization\n",
        "\n",
        "* Automating task\n",
        "\n",
        "* Machinne Learning \n",
        "\n",
        "* optiization \n",
        "\n",
        "* web deveploment \n",
        "\n",
        "* user interfaces creation \n",
        "\n",
        "* Create another sofware \n",
        "\n",
        "* create video games\n",
        "\n",
        "\n"
      ],
      "metadata": {
        "id": "hs3yPFHQlpmp"
      }
    },
    {
      "cell_type": "markdown",
      "source": [
        "# 2. Why python?\n",
        "\n",
        "The main reasons:\n",
        "\n",
        "* It is simple\n",
        "* Focus \n",
        "* Easy to learn \n",
        "* open- source: it is free\n",
        "* Cros- platform \n",
        "* Extensive libraries\n",
        "\n"
      ],
      "metadata": {
        "id": "KtxT-XVfmpnN"
      }
    },
    {
      "cell_type": "markdown",
      "source": [
        "#3. Getting Started \n"
      ],
      "metadata": {
        "id": "1fEA31Mxm3Iw"
      }
    },
    {
      "cell_type": "markdown",
      "source": [
        "#3.1 Python as a calculator \n"
      ],
      "metadata": {
        "id": "4KyzXwVUm8Or"
      }
    },
    {
      "cell_type": "code",
      "execution_count": null,
      "metadata": {
        "colab": {
          "base_uri": "https://localhost:8080/"
        },
        "id": "6XXMMX5RlU8u",
        "outputId": "06dcdda3-66f4-4877-8350-0b2ada87fefe"
      },
      "outputs": [
        {
          "output_type": "execute_result",
          "data": {
            "text/plain": [
              "4"
            ]
          },
          "metadata": {},
          "execution_count": 2
        }
      ],
      "source": [
        "# Addition \n",
        "2 + 2"
      ]
    },
    {
      "cell_type": "code",
      "source": [
        "#  subtraction \n",
        "23 - 7"
      ],
      "metadata": {
        "colab": {
          "base_uri": "https://localhost:8080/"
        },
        "id": "7UaKhBWhoI7J",
        "outputId": "0978accc-9ec2-4ce2-c479-dc9ca256c577"
      },
      "execution_count": null,
      "outputs": [
        {
          "output_type": "execute_result",
          "data": {
            "text/plain": [
              "16"
            ]
          },
          "metadata": {},
          "execution_count": 3
        }
      ]
    },
    {
      "cell_type": "code",
      "source": [
        "# Multiplication \n",
        "13 * 7"
      ],
      "metadata": {
        "colab": {
          "base_uri": "https://localhost:8080/"
        },
        "id": "-xE87c3joSz0",
        "outputId": "2b728430-dafe-4475-f919-93a1260988d7"
      },
      "execution_count": null,
      "outputs": [
        {
          "output_type": "execute_result",
          "data": {
            "text/plain": [
              "91"
            ]
          },
          "metadata": {},
          "execution_count": 4
        }
      ]
    },
    {
      "cell_type": "code",
      "source": [
        "# Division \n",
        "10 / 3"
      ],
      "metadata": {
        "colab": {
          "base_uri": "https://localhost:8080/"
        },
        "id": "TVgSLZd3oaCM",
        "outputId": "db90adf7-67d6-4b64-df18-833f94033917"
      },
      "execution_count": null,
      "outputs": [
        {
          "output_type": "execute_result",
          "data": {
            "text/plain": [
              "3.3333333333333335"
            ]
          },
          "metadata": {},
          "execution_count": 5
        }
      ]
    },
    {
      "cell_type": "code",
      "source": [
        "#integer Division \n",
        "10 // 3\n"
      ],
      "metadata": {
        "colab": {
          "base_uri": "https://localhost:8080/"
        },
        "id": "FhB2gF9poqni",
        "outputId": "ca2f6e74-bca6-4e25-d3e8-78eac54a45e9"
      },
      "execution_count": null,
      "outputs": [
        {
          "output_type": "execute_result",
          "data": {
            "text/plain": [
              "3"
            ]
          },
          "metadata": {},
          "execution_count": 6
        }
      ]
    },
    {
      "cell_type": "code",
      "source": [
        "\n",
        "2**3\n"
      ],
      "metadata": {
        "colab": {
          "base_uri": "https://localhost:8080/"
        },
        "id": "VfSOZRQAh_-F",
        "outputId": "adc1a573-dd94-497d-f227-abe8d8983395"
      },
      "execution_count": null,
      "outputs": [
        {
          "output_type": "execute_result",
          "data": {
            "text/plain": [
              "8"
            ]
          },
          "metadata": {},
          "execution_count": 3
        }
      ]
    },
    {
      "cell_type": "markdown",
      "source": [
        "composite operations and paranthesis \n"
      ],
      "metadata": {
        "id": "kwkQmrJ4iREG"
      }
    },
    {
      "cell_type": "code",
      "source": [
        "#example \n",
        "(2 + 3)*4"
      ],
      "metadata": {
        "colab": {
          "base_uri": "https://localhost:8080/"
        },
        "id": "q8m4CeqdiRk2",
        "outputId": "adfd7070-c38e-459a-ecee-d398ff2074ea"
      },
      "execution_count": null,
      "outputs": [
        {
          "output_type": "execute_result",
          "data": {
            "text/plain": [
              "20"
            ]
          },
          "metadata": {},
          "execution_count": 4
        }
      ]
    },
    {
      "cell_type": "markdown",
      "source": [
        "## 3.3 integers and real numbers \n",
        "integers: dont have decimals , but can be positive and negative \n",
        "\n",
        "type(26)\n"
      ],
      "metadata": {
        "id": "7Hoz9BOWiswu"
      }
    },
    {
      "cell_type": "markdown",
      "source": [
        "##### integer can be and integer in the oppperation except in division \n"
      ],
      "metadata": {
        "id": "WvE5PoC-lWsh"
      }
    },
    {
      "cell_type": "code",
      "source": [
        "# interger (with no decimal possition)\n",
        "type(26)\n"
      ],
      "metadata": {
        "colab": {
          "base_uri": "https://localhost:8080/"
        },
        "id": "7NpK6JcvitOC",
        "outputId": "44edb593-820d-4dad-81fd-9b72f1724594"
      },
      "execution_count": null,
      "outputs": [
        {
          "output_type": "execute_result",
          "data": {
            "text/plain": [
              "int"
            ]
          },
          "metadata": {},
          "execution_count": 5
        }
      ]
    },
    {
      "cell_type": "code",
      "source": [
        "#real number (with decimal possitions)\n",
        "type(26.0)\n"
      ],
      "metadata": {
        "colab": {
          "base_uri": "https://localhost:8080/"
        },
        "id": "NBUL9rGjkGs2",
        "outputId": "a9813f7c-b074-4f5c-cdbf-e3145fdb0e9c"
      },
      "execution_count": null,
      "outputs": [
        {
          "output_type": "execute_result",
          "data": {
            "text/plain": [
              "float"
            ]
          },
          "metadata": {},
          "execution_count": 8
        }
      ]
    },
    {
      "cell_type": "code",
      "source": [
        "# Examples \n",
        "# find out if the next expressions are int or float \n",
        "type(2 + 3.0)\n",
        "type(2.5*7)\n",
        "type(4.0/2)\n"
      ],
      "metadata": {
        "colab": {
          "base_uri": "https://localhost:8080/"
        },
        "id": "IITkJy6NkckD",
        "outputId": "15942438-aa5b-4c59-e588-aedfe25c502e"
      },
      "execution_count": null,
      "outputs": [
        {
          "output_type": "execute_result",
          "data": {
            "text/plain": [
              "float"
            ]
          },
          "metadata": {},
          "execution_count": 11
        }
      ]
    },
    {
      "cell_type": "code",
      "source": [
        "type(2.5*7)"
      ],
      "metadata": {
        "colab": {
          "base_uri": "https://localhost:8080/"
        },
        "id": "r3gjEcyak9LC",
        "outputId": "c7e5b8e5-a6d4-4995-ed0d-4f6e2d28b2cd"
      },
      "execution_count": null,
      "outputs": [
        {
          "output_type": "execute_result",
          "data": {
            "text/plain": [
              "float"
            ]
          },
          "metadata": {},
          "execution_count": 12
        }
      ]
    },
    {
      "cell_type": "code",
      "source": [
        "type(4.0/2)"
      ],
      "metadata": {
        "colab": {
          "base_uri": "https://localhost:8080/"
        },
        "id": "5XrsYXX6lFbt",
        "outputId": "f0613f94-c627-4066-c2af-5e2ea4e0beb8"
      },
      "execution_count": null,
      "outputs": [
        {
          "output_type": "execute_result",
          "data": {
            "text/plain": [
              "float"
            ]
          },
          "metadata": {},
          "execution_count": 13
        }
      ]
    },
    {
      "cell_type": "markdown",
      "source": [
        "### scientific notation \n"
      ],
      "metadata": {
        "id": "lmlynT5cliWQ"
      }
    },
    {
      "cell_type": "code",
      "source": [
        "# exmaple \n",
        "5e1"
      ],
      "metadata": {
        "colab": {
          "base_uri": "https://localhost:8080/"
        },
        "id": "Jbr52LEZlPU2",
        "outputId": "cffef517-1322-41fa-dc6a-c47362e19a79"
      },
      "execution_count": null,
      "outputs": [
        {
          "output_type": "execute_result",
          "data": {
            "text/plain": [
              "50.0"
            ]
          },
          "metadata": {},
          "execution_count": 14
        }
      ]
    },
    {
      "cell_type": "code",
      "source": [
        "6e-2\n"
      ],
      "metadata": {
        "colab": {
          "base_uri": "https://localhost:8080/"
        },
        "id": "dxxzIUD3oG7a",
        "outputId": "e4c9c9ff-ac80-4997-e110-592d87906910"
      },
      "execution_count": null,
      "outputs": [
        {
          "output_type": "execute_result",
          "data": {
            "text/plain": [
              "0.06"
            ]
          },
          "metadata": {},
          "execution_count": 15
        }
      ]
    },
    {
      "cell_type": "code",
      "source": [
        "type(5e1)"
      ],
      "metadata": {
        "colab": {
          "base_uri": "https://localhost:8080/"
        },
        "id": "bonFVYIboTZI",
        "outputId": "f42c3467-730a-4b0f-c80e-f74a33ea2f45"
      },
      "execution_count": null,
      "outputs": [
        {
          "output_type": "execute_result",
          "data": {
            "text/plain": [
              "float"
            ]
          },
          "metadata": {},
          "execution_count": 16
        }
      ]
    },
    {
      "cell_type": "code",
      "source": [
        "# practice\n",
        "# write million in scientific notation \n",
        "# what is the result of 3e0.2"
      ],
      "metadata": {
        "id": "RpIoUcAhodBt"
      },
      "execution_count": null,
      "outputs": []
    },
    {
      "cell_type": "code",
      "source": [
        "# write million in scientific notation\n",
        "1e6\n",
        "\n",
        "\n"
      ],
      "metadata": {
        "colab": {
          "base_uri": "https://localhost:8080/"
        },
        "id": "KAj0rv1iowrL",
        "outputId": "a52eb05d-84a8-4ff8-a3f7-1709d469e7ed"
      },
      "execution_count": null,
      "outputs": [
        {
          "output_type": "execute_result",
          "data": {
            "text/plain": [
              "1000000.0"
            ]
          },
          "metadata": {},
          "execution_count": 21
        }
      ]
    },
    {
      "cell_type": "code",
      "source": [
        "# what is the result of \n",
        "3e02\n"
      ],
      "metadata": {
        "colab": {
          "base_uri": "https://localhost:8080/"
        },
        "id": "NoTfqRtvoz9A",
        "outputId": "0ddaeb15-7701-49ee-9a8d-761e27b057e3"
      },
      "execution_count": null,
      "outputs": [
        {
          "output_type": "execute_result",
          "data": {
            "text/plain": [
              "300.0"
            ]
          },
          "metadata": {},
          "execution_count": 23
        }
      ]
    },
    {
      "cell_type": "markdown",
      "source": [
        "### transformation \n",
        "you can change the type() ofr a numbre or you can force a type() of a number \n"
      ],
      "metadata": {
        "id": "FY5wWkuNqQqv"
      }
    },
    {
      "cell_type": "code",
      "source": [
        "# Example \n",
        "float(6)"
      ],
      "metadata": {
        "colab": {
          "base_uri": "https://localhost:8080/"
        },
        "id": "4w4FSpIsqQAs",
        "outputId": "d5cb0ca1-e2c7-4853-d420-d1601151c9d8"
      },
      "execution_count": null,
      "outputs": [
        {
          "output_type": "execute_result",
          "data": {
            "text/plain": [
              "6.0"
            ]
          },
          "metadata": {},
          "execution_count": 24
        }
      ]
    },
    {
      "cell_type": "code",
      "source": [
        "int(3.33333)"
      ],
      "metadata": {
        "colab": {
          "base_uri": "https://localhost:8080/"
        },
        "id": "n0_5LCxZqpiR",
        "outputId": "dc3778e6-ddc1-4cee-e0e3-dcc7aa558f59"
      },
      "execution_count": null,
      "outputs": [
        {
          "output_type": "execute_result",
          "data": {
            "text/plain": [
              "3"
            ]
          },
          "metadata": {},
          "execution_count": 25
        }
      ]
    },
    {
      "cell_type": "markdown",
      "source": [
        "# 3.4 Basic and useful functions\n",
        "Functions let us do things more efficiently."
      ],
      "metadata": {
        "id": "qc-8Vg4YmIlY"
      }
    },
    {
      "cell_type": "markdown",
      "source": [
        "Print"
      ],
      "metadata": {
        "id": "vzpgnrsJohZS"
      }
    },
    {
      "cell_type": "code",
      "source": [
        "# Example with numbers\n",
        "\n",
        "print(2023)\n",
        "print(2024)\n",
        "print(22,2,2022)\n"
      ],
      "metadata": {
        "colab": {
          "base_uri": "https://localhost:8080/"
        },
        "id": "kiV1iO3Em9Tl",
        "outputId": "74b94325-3c3c-45c7-9df7-a2ce89314b49"
      },
      "execution_count": 1,
      "outputs": [
        {
          "output_type": "stream",
          "name": "stdout",
          "text": [
            "2023\n",
            "2024\n",
            "22 2 2022\n"
          ]
        }
      ]
    },
    {
      "cell_type": "code",
      "source": [
        "# Example - hard version\n",
        "\n",
        "for i in range(0,11): print(i)"
      ],
      "metadata": {
        "id": "mhCsTd9Bqu6f",
        "colab": {
          "base_uri": "https://localhost:8080/"
        },
        "outputId": "c5965e15-6f9d-495e-97aa-24fe1c8b35a3"
      },
      "execution_count": 2,
      "outputs": [
        {
          "output_type": "stream",
          "name": "stdout",
          "text": [
            "0\n",
            "1\n",
            "2\n",
            "3\n",
            "4\n",
            "5\n",
            "6\n",
            "7\n",
            "8\n",
            "9\n",
            "10\n"
          ]
        }
      ]
    },
    {
      "cell_type": "code",
      "source": [
        "# Example - With Text\n",
        "\n",
        "print('Hello World')\n",
        "print('First Name: Luisa', 'Second Name: Fernanda')\n",
        "print('First Name: Luisa', '\\tSecond Name: Fernanda')\n",
        "print('First Name: Luisa', '\\nSecond Name: Fernanda')"
      ],
      "metadata": {
        "colab": {
          "base_uri": "https://localhost:8080/"
        },
        "id": "Gu-UEsD9owhO",
        "outputId": "489ea276-6de8-4919-8d5a-dd210ce5527d"
      },
      "execution_count": 3,
      "outputs": [
        {
          "output_type": "stream",
          "name": "stdout",
          "text": [
            "Hello World\n",
            "First Name: Luisa Second Name: Fernanda\n",
            "First Name: Luisa \tSecond Name: Fernanda\n",
            "First Name: Luisa \n",
            "Second Name: Fernanda\n"
          ]
        }
      ]
    },
    {
      "cell_type": "code",
      "source": [
        "# Example - text and numbers\n",
        "\n",
        "print('My lucky number is:', 16)"
      ],
      "metadata": {
        "colab": {
          "base_uri": "https://localhost:8080/"
        },
        "id": "m0lmCrF5pCIG",
        "outputId": "5efed953-75fa-4c0b-f22f-b66ab53c0c7a"
      },
      "execution_count": 4,
      "outputs": [
        {
          "output_type": "stream",
          "name": "stdout",
          "text": [
            "My lucky number is: 16\n"
          ]
        }
      ]
    },
    {
      "cell_type": "markdown",
      "source": [
        "## Round\n",
        "### It will tle us to control the decimal positions."
      ],
      "metadata": {
        "id": "PE91peAwpIqC"
      }
    },
    {
      "cell_type": "code",
      "source": [
        "# Example\n",
        "# Consider 8.53214794\n",
        "# Let's use round\n",
        "\n",
        "print('The approximation of',8.53214794, 'with', 0, 'decimals is:', round(8.53214794,0))\n",
        "print('The approximation of',8.53214794, 'with', 1, 'decimals is:', round(8.53214794,1))\n"
      ],
      "metadata": {
        "colab": {
          "base_uri": "https://localhost:8080/"
        },
        "id": "b_YN8a_YpFkb",
        "outputId": "86ff7c9e-abc3-4ef1-c115-7e2e1565685c"
      },
      "execution_count": 5,
      "outputs": [
        {
          "output_type": "stream",
          "name": "stdout",
          "text": [
            "The approximation of 8.53214794 with 0 decimals is: 9.0\n",
            "The approximation of 8.53214794 with 1 decimals is: 8.5\n"
          ]
        }
      ]
    },
    {
      "cell_type": "code",
      "source": [
        "print('The approximation of',8.53214794, 'with:')\n",
        "print(0, 'decimals is:', round(8.53214794,0))\n",
        "print(1, 'decimals is:', round(8.53214794,1))"
      ],
      "metadata": {
        "colab": {
          "base_uri": "https://localhost:8080/"
        },
        "id": "XvCGqshNpUA3",
        "outputId": "43c6f96c-733b-4ad1-c579-f85c0ab0c450"
      },
      "execution_count": 6,
      "outputs": [
        {
          "output_type": "stream",
          "name": "stdout",
          "text": [
            "The approximation of 8.53214794 with:\n",
            "0 decimals is: 9.0\n",
            "1 decimals is: 8.5\n"
          ]
        }
      ]
    },
    {
      "cell_type": "code",
      "source": [
        "print('The approximation of',8.53214794, 'with:')\n",
        "print('Decimals','Result')\n",
        "print(0, '\\t', round(8.53214794,0))\n",
        "print(1, '\\t', round(8.53214794,1))"
      ],
      "metadata": {
        "colab": {
          "base_uri": "https://localhost:8080/"
        },
        "id": "Mrz5Mft-pZYn",
        "outputId": "740f7ba1-b205-4d2d-ab1c-b51477707189"
      },
      "execution_count": 7,
      "outputs": [
        {
          "output_type": "stream",
          "name": "stdout",
          "text": [
            "The approximation of 8.53214794 with:\n",
            "Decimals Result\n",
            "0 \t 9.0\n",
            "1 \t 8.5\n"
          ]
        }
      ]
    },
    {
      "cell_type": "code",
      "source": [
        "print('The approximation of',8.53214794, 'with:')\n",
        "print('Decimals','Result')\n",
        "for i in range(0,8): \n",
        "  print(i, '\\t', round(8.53214794,i))"
      ],
      "metadata": {
        "colab": {
          "base_uri": "https://localhost:8080/"
        },
        "id": "16gsIYjupgQe",
        "outputId": "13c48710-fc49-476b-9f1c-82ba814b4944"
      },
      "execution_count": 8,
      "outputs": [
        {
          "output_type": "stream",
          "name": "stdout",
          "text": [
            "The approximation of 8.53214794 with:\n",
            "Decimals Result\n",
            "0 \t 9.0\n",
            "1 \t 8.5\n",
            "2 \t 8.53\n",
            "3 \t 8.532\n",
            "4 \t 8.5321\n",
            "5 \t 8.53215\n",
            "6 \t 8.532148\n",
            "7 \t 8.5321479\n"
          ]
        }
      ]
    },
    {
      "cell_type": "code",
      "source": [
        "print('The first',100,'multiples of',2,':')\n",
        "print('Multiple','Result')\n",
        "for i in range(1,101): \n",
        "  print(i, '\\t', 2*i)"
      ],
      "metadata": {
        "colab": {
          "base_uri": "https://localhost:8080/"
        },
        "id": "NlMcQmGfplvd",
        "outputId": "ac804c7d-a52c-4ed2-e434-15b561ecc4a1"
      },
      "execution_count": 9,
      "outputs": [
        {
          "output_type": "stream",
          "name": "stdout",
          "text": [
            "The first 100 multiples of 2 :\n",
            "Multiple Result\n",
            "1 \t 2\n",
            "2 \t 4\n",
            "3 \t 6\n",
            "4 \t 8\n",
            "5 \t 10\n",
            "6 \t 12\n",
            "7 \t 14\n",
            "8 \t 16\n",
            "9 \t 18\n",
            "10 \t 20\n",
            "11 \t 22\n",
            "12 \t 24\n",
            "13 \t 26\n",
            "14 \t 28\n",
            "15 \t 30\n",
            "16 \t 32\n",
            "17 \t 34\n",
            "18 \t 36\n",
            "19 \t 38\n",
            "20 \t 40\n",
            "21 \t 42\n",
            "22 \t 44\n",
            "23 \t 46\n",
            "24 \t 48\n",
            "25 \t 50\n",
            "26 \t 52\n",
            "27 \t 54\n",
            "28 \t 56\n",
            "29 \t 58\n",
            "30 \t 60\n",
            "31 \t 62\n",
            "32 \t 64\n",
            "33 \t 66\n",
            "34 \t 68\n",
            "35 \t 70\n",
            "36 \t 72\n",
            "37 \t 74\n",
            "38 \t 76\n",
            "39 \t 78\n",
            "40 \t 80\n",
            "41 \t 82\n",
            "42 \t 84\n",
            "43 \t 86\n",
            "44 \t 88\n",
            "45 \t 90\n",
            "46 \t 92\n",
            "47 \t 94\n",
            "48 \t 96\n",
            "49 \t 98\n",
            "50 \t 100\n",
            "51 \t 102\n",
            "52 \t 104\n",
            "53 \t 106\n",
            "54 \t 108\n",
            "55 \t 110\n",
            "56 \t 112\n",
            "57 \t 114\n",
            "58 \t 116\n",
            "59 \t 118\n",
            "60 \t 120\n",
            "61 \t 122\n",
            "62 \t 124\n",
            "63 \t 126\n",
            "64 \t 128\n",
            "65 \t 130\n",
            "66 \t 132\n",
            "67 \t 134\n",
            "68 \t 136\n",
            "69 \t 138\n",
            "70 \t 140\n",
            "71 \t 142\n",
            "72 \t 144\n",
            "73 \t 146\n",
            "74 \t 148\n",
            "75 \t 150\n",
            "76 \t 152\n",
            "77 \t 154\n",
            "78 \t 156\n",
            "79 \t 158\n",
            "80 \t 160\n",
            "81 \t 162\n",
            "82 \t 164\n",
            "83 \t 166\n",
            "84 \t 168\n",
            "85 \t 170\n",
            "86 \t 172\n",
            "87 \t 174\n",
            "88 \t 176\n",
            "89 \t 178\n",
            "90 \t 180\n",
            "91 \t 182\n",
            "92 \t 184\n",
            "93 \t 186\n",
            "94 \t 188\n",
            "95 \t 190\n",
            "96 \t 192\n",
            "97 \t 194\n",
            "98 \t 196\n",
            "99 \t 198\n",
            "100 \t 200\n"
          ]
        }
      ]
    }
  ]
}