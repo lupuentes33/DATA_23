{
  "nbformat": 4,
  "nbformat_minor": 0,
  "metadata": {
    "colab": {
      "provenance": [],
      "include_colab_link": true
    },
    "kernelspec": {
      "name": "python3",
      "display_name": "Python 3"
    },
    "language_info": {
      "name": "python"
    }
  },
  "cells": [
    {
      "cell_type": "markdown",
      "metadata": {
        "id": "view-in-github",
        "colab_type": "text"
      },
      "source": [
        "<a href=\"https://colab.research.google.com/github/lupuentes33/DATA_23/blob/main/Data_Strcutures.ipynb\" target=\"_parent\"><img src=\"https://colab.research.google.com/assets/colab-badge.svg\" alt=\"Open In Colab\"/></a>"
      ]
    },
    {
      "cell_type": "markdown",
      "source": [
        "# **1. What is a DS?**\n",
        "\n",
        "A DS is an object that let us store moer than one value.\n",
        "\n",
        "Formally, a DS is **sequence** of values which can be located with an index."
      ],
      "metadata": {
        "id": "TUtMVIxruV0r"
      }
    },
    {
      "cell_type": "markdown",
      "source": [
        "# **2. Linear Algebra**\n"
      ],
      "metadata": {
        "id": "nr0cjEPcwX6M"
      }
    },
    {
      "cell_type": "markdown",
      "source": [
        "## 2.1. What is Numpy?\n",
        "\n",
        "Numpy (Numerical Python) is a collection of functions and methods."
      ],
      "metadata": {
        "id": "OoR7DgMdw9EC"
      }
    },
    {
      "cell_type": "code",
      "execution_count": 1,
      "metadata": {
        "id": "bb-R_uEiuKvC"
      },
      "outputs": [],
      "source": [
        "# Install the library\n",
        "\n",
        "import numpy as np"
      ]
    },
    {
      "cell_type": "markdown",
      "source": [
        "## 2.2. Numpy arrays - vectors and matrices"
      ],
      "metadata": {
        "id": "eqPMn382ydgk"
      }
    },
    {
      "cell_type": "markdown",
      "source": [
        "*Example 1 - Column vector*"
      ],
      "metadata": {
        "id": "1Bl_32q4yjHO"
      }
    },
    {
      "cell_type": "code",
      "source": [
        "a = np.array([[1],[2],[3]])\n",
        "print(a)\n",
        "print(a.shape)"
      ],
      "metadata": {
        "colab": {
          "base_uri": "https://localhost:8080/"
        },
        "id": "zLlmIC2BzvFh",
        "outputId": "00dfc0dd-d5dd-4d89-fc6a-930a5c5126f4"
      },
      "execution_count": null,
      "outputs": [
        {
          "output_type": "stream",
          "name": "stdout",
          "text": [
            "[[1]\n",
            " [2]\n",
            " [3]]\n",
            "(3, 1)\n"
          ]
        }
      ]
    },
    {
      "cell_type": "markdown",
      "source": [
        "*Example 2 - Row vector*"
      ],
      "metadata": {
        "id": "EfCLLug6nRoR"
      }
    },
    {
      "cell_type": "code",
      "source": [
        "b = np.array([[4,5,6]])\n",
        "print(b)\n",
        "print(b.shape)"
      ],
      "metadata": {
        "colab": {
          "base_uri": "https://localhost:8080/"
        },
        "id": "EBxnHLDMnX9B",
        "outputId": "5c35fbb9-220d-42f5-fdb3-7ae0e0d250dc"
      },
      "execution_count": null,
      "outputs": [
        {
          "output_type": "stream",
          "name": "stdout",
          "text": [
            "[[4 5 6]]\n",
            "(1, 3)\n"
          ]
        }
      ]
    },
    {
      "cell_type": "markdown",
      "source": [
        "*Example 3 - Matrix*"
      ],
      "metadata": {
        "id": "fB1DOSrmn3jN"
      }
    },
    {
      "cell_type": "code",
      "source": [
        "M = np.array([[1,2,3],[4,5,6],[7,8,9]])\n",
        "print(M)\n",
        "print(M.shape)"
      ],
      "metadata": {
        "colab": {
          "base_uri": "https://localhost:8080/"
        },
        "id": "qi4UvePpn9KX",
        "outputId": "5871c646-aa7c-4525-e062-be930338903a"
      },
      "execution_count": null,
      "outputs": [
        {
          "output_type": "stream",
          "name": "stdout",
          "text": [
            "[[1 2 3]\n",
            " [4 5 6]\n",
            " [7 8 9]]\n",
            "(3, 3)\n"
          ]
        }
      ]
    },
    {
      "cell_type": "code",
      "source": [
        "# nice trick\n",
        "\n",
        "nr, nc = M.shape"
      ],
      "metadata": {
        "id": "75oYpd09oqtX"
      },
      "execution_count": null,
      "outputs": []
    },
    {
      "cell_type": "markdown",
      "source": [
        "# 2.3. Sciling\n",
        "\n",
        "To access one or sveral elements of the object."
      ],
      "metadata": {
        "id": "TbwVxrmPpN7N"
      }
    },
    {
      "cell_type": "code",
      "source": [
        "# Extract the first element\n",
        "\n",
        "## Column vector\n",
        "print(a[0,0])\n",
        "\n",
        "## Row vector\n",
        "print(b[0,0])\n",
        "\n",
        "## Matrix\n",
        "print(M[0,0])"
      ],
      "metadata": {
        "colab": {
          "base_uri": "https://localhost:8080/"
        },
        "id": "oExWF7QepiBa",
        "outputId": "3c31112f-5507-43ca-ea6e-23f56f09619a"
      },
      "execution_count": null,
      "outputs": [
        {
          "output_type": "stream",
          "name": "stdout",
          "text": [
            "1\n",
            "4\n",
            "1\n"
          ]
        }
      ]
    },
    {
      "cell_type": "code",
      "source": [
        "# Extract the last element\n",
        "\n",
        "## Column vector\n",
        "print(a[-1,0])\n",
        "\n",
        "## Row vector\n",
        "print(b[0,-1])\n",
        "\n",
        "## Matrix\n",
        "print(M[-1,-1])"
      ],
      "metadata": {
        "colab": {
          "base_uri": "https://localhost:8080/"
        },
        "id": "FjNmc6NrrGDM",
        "outputId": "d9f4080f-2fa4-4bc7-ceb4-0bb1877b8591"
      },
      "execution_count": null,
      "outputs": [
        {
          "output_type": "stream",
          "name": "stdout",
          "text": [
            "3\n",
            "6\n",
            "9\n"
          ]
        }
      ]
    },
    {
      "cell_type": "code",
      "source": [
        "# Extract a subset\n",
        "\n",
        "## Column vector\n",
        "print(a[0:2])\n",
        "\n",
        "## Row vector\n",
        "print(b[0,0:2])\n",
        "\n",
        "## Matrix\n",
        "print(M[0:2,0:2])"
      ],
      "metadata": {
        "id": "cjGq5iAYrm0I",
        "colab": {
          "base_uri": "https://localhost:8080/"
        },
        "outputId": "2c56aa54-22f5-4f25-a16b-25e264f381d2"
      },
      "execution_count": null,
      "outputs": [
        {
          "output_type": "stream",
          "name": "stdout",
          "text": [
            "[[1]\n",
            " [2]]\n",
            "[4 5]\n",
            "[[1 2]\n",
            " [4 5]]\n"
          ]
        }
      ]
    },
    {
      "cell_type": "markdown",
      "source": [
        "# 2.4. Methods"
      ],
      "metadata": {
        "id": "sVChxRhms1CE"
      }
    },
    {
      "cell_type": "code",
      "source": [
        "# ZEROS\n",
        "z1 = np.zeros(4)\n",
        "print(z1)\n",
        "\n",
        "z2 = np.zeros((3,2))\n",
        "print(z2)\n",
        "\n"
      ],
      "metadata": {
        "colab": {
          "base_uri": "https://localhost:8080/"
        },
        "id": "E72Xg5Ajs3tv",
        "outputId": "d68b1d4f-fcb8-4482-d0d7-68f59fc6d9e4"
      },
      "execution_count": null,
      "outputs": [
        {
          "output_type": "stream",
          "name": "stdout",
          "text": [
            "[0. 0. 0. 0.]\n",
            "[[0. 0.]\n",
            " [0. 0.]\n",
            " [0. 0.]]\n"
          ]
        }
      ]
    },
    {
      "cell_type": "code",
      "source": [
        "# ONES\n",
        "\n",
        "o1 = np.ones(4)\n",
        "print(o1)\n",
        "\n",
        "o2 = np.ones((3,2))\n",
        "print(o2)"
      ],
      "metadata": {
        "colab": {
          "base_uri": "https://localhost:8080/"
        },
        "id": "fsTe-N5buM2m",
        "outputId": "c0b8304c-35c7-4823-99ba-0d95adebead8"
      },
      "execution_count": null,
      "outputs": [
        {
          "output_type": "stream",
          "name": "stdout",
          "text": [
            "[1. 1. 1. 1.]\n",
            "[[1. 1.]\n",
            " [1. 1.]\n",
            " [1. 1.]]\n"
          ]
        },
        {
          "output_type": "execute_result",
          "data": {
            "text/plain": [
              "array([[5., 5.],\n",
              "       [5., 5.],\n",
              "       [5., 5.]])"
            ]
          },
          "metadata": {},
          "execution_count": 27
        }
      ]
    },
    {
      "cell_type": "markdown",
      "source": [
        "**ANOTHER CREATION OPTIONS**"
      ],
      "metadata": {
        "id": "PTUyAsKBvQwT"
      }
    },
    {
      "cell_type": "code",
      "source": [
        "# Full\n",
        "\n",
        "f = np.full((3,2),3.18161415)\n",
        "print(f)"
      ],
      "metadata": {
        "colab": {
          "base_uri": "https://localhost:8080/"
        },
        "id": "_6tqaHqkvXkk",
        "outputId": "cca8f45d-701c-44d2-c045-1d970e295fce"
      },
      "execution_count": null,
      "outputs": [
        {
          "output_type": "stream",
          "name": "stdout",
          "text": [
            "[[3.18161415 3.18161415]\n",
            " [3.18161415 3.18161415]\n",
            " [3.18161415 3.18161415]]\n"
          ]
        }
      ]
    },
    {
      "cell_type": "code",
      "source": [
        "# Linear sequence\n",
        "\n",
        "np.arange(6)\n",
        "np.arange(23,33)\n",
        "np.arange(23,33,0.5)"
      ],
      "metadata": {
        "colab": {
          "base_uri": "https://localhost:8080/"
        },
        "id": "dORExk0Bv9P5",
        "outputId": "49413316-1930-4e1d-9229-273b5560753e"
      },
      "execution_count": null,
      "outputs": [
        {
          "output_type": "execute_result",
          "data": {
            "text/plain": [
              "array([23. , 23.5, 24. , 24.5, 25. , 25.5, 26. , 26.5, 27. , 27.5, 28. ,\n",
              "       28.5, 29. , 29.5, 30. , 30.5, 31. , 31.5, 32. , 32.5])"
            ]
          },
          "metadata": {},
          "execution_count": 33
        }
      ]
    },
    {
      "cell_type": "code",
      "source": [
        "# Linear space\n",
        "\n",
        "np.linspace(15,90,6)"
      ],
      "metadata": {
        "colab": {
          "base_uri": "https://localhost:8080/"
        },
        "id": "DxKnFtcgxR9h",
        "outputId": "bfdce1ab-12c9-48fe-cc1f-0bed0efb6b61"
      },
      "execution_count": null,
      "outputs": [
        {
          "output_type": "execute_result",
          "data": {
            "text/plain": [
              "array([15., 30., 45., 60., 75., 90.])"
            ]
          },
          "metadata": {},
          "execution_count": 34
        }
      ]
    },
    {
      "cell_type": "markdown",
      "source": [
        "## 2.5. Random Numbers"
      ],
      "metadata": {
        "id": "c38xj8Bmx8RA"
      }
    },
    {
      "cell_type": "markdown",
      "source": [
        "### Uniform distribution [0,1)"
      ],
      "metadata": {
        "id": "k3k5qco5u_c2"
      }
    },
    {
      "cell_type": "code",
      "source": [
        "# A Single Value - between 0 y 1\n",
        "np.random.rand()"
      ],
      "metadata": {
        "colab": {
          "base_uri": "https://localhost:8080/"
        },
        "id": "_bhFQU3EyPFl",
        "outputId": "cbdd82b3-fc09-4294-94c5-5ea7df1a475d"
      },
      "execution_count": null,
      "outputs": [
        {
          "output_type": "execute_result",
          "data": {
            "text/plain": [
              "0.2725926052826416"
            ]
          },
          "metadata": {},
          "execution_count": 49
        }
      ]
    },
    {
      "cell_type": "code",
      "source": [
        " # Example - toss a coin\n",
        "\n",
        " if np.random.rand() < 0.5:\n",
        "   print('head')\n",
        " else:\n",
        "   print('tails')"
      ],
      "metadata": {
        "colab": {
          "base_uri": "https://localhost:8080/"
        },
        "id": "64Y3ulNzzzNH",
        "outputId": "fa6040e9-ae3d-4a8f-fad7-1251193ad801"
      },
      "execution_count": null,
      "outputs": [
        {
          "output_type": "stream",
          "name": "stdout",
          "text": [
            "tails\n"
          ]
        }
      ]
    },
    {
      "cell_type": "code",
      "source": [
        "# Two heads in a row\n",
        "\n",
        "if np.random.rand() < 0.25:\n",
        "   print('You win!')\n",
        "else:\n",
        "   print('You lose!')"
      ],
      "metadata": {
        "colab": {
          "base_uri": "https://localhost:8080/"
        },
        "id": "NY6EziNG4aaL",
        "outputId": "b72c57f3-5d9e-423d-a3b6-4abebfb42909"
      },
      "execution_count": null,
      "outputs": [
        {
          "output_type": "stream",
          "name": "stdout",
          "text": [
            "You lose!\n"
          ]
        }
      ]
    },
    {
      "cell_type": "code",
      "source": [
        "# Two heads in a row\n",
        "\n",
        "ft = np.random.rand()\n",
        "if ft < 0.5:\n",
        "   print('The first toss was Head')\n",
        "else:\n",
        "   print('The first toss was Tails')\n",
        "\n",
        "st = np.random.rand()\n",
        "if st < 0.5:\n",
        "   print('The second toss was Head')\n",
        "else:\n",
        "   print('The second toss was Tails')\n",
        "\n",
        "if ft < 0.5 and st < 0.5:\n",
        "  print('You win!')\n",
        "else:\n",
        "  print('You lose!')"
      ],
      "metadata": {
        "colab": {
          "base_uri": "https://localhost:8080/"
        },
        "id": "eBev_qvL47Ys",
        "outputId": "4118ad85-b888-4ea0-e20d-585d40105ddc"
      },
      "execution_count": null,
      "outputs": [
        {
          "output_type": "stream",
          "name": "stdout",
          "text": [
            "The first toss was Head\n",
            "The second toss was Head\n",
            "You win!\n"
          ]
        }
      ]
    },
    {
      "cell_type": "code",
      "source": [
        "# One dimensional array\n",
        "np.random.rand(5)"
      ],
      "metadata": {
        "colab": {
          "base_uri": "https://localhost:8080/"
        },
        "id": "jqow_PMPuVOC",
        "outputId": "c3324092-bf9b-4531-f1b8-7f3da6020b88"
      },
      "execution_count": null,
      "outputs": [
        {
          "output_type": "execute_result",
          "data": {
            "text/plain": [
              "array([0.50164703, 0.65864823, 0.68876111, 0.70565639, 0.53951296])"
            ]
          },
          "metadata": {},
          "execution_count": 2
        }
      ]
    },
    {
      "cell_type": "code",
      "source": [
        "# Matrix\n",
        "np.random.rand(6,2)"
      ],
      "metadata": {
        "colab": {
          "base_uri": "https://localhost:8080/"
        },
        "id": "pqOXIecLupHf",
        "outputId": "c481414c-fab3-41fc-9c81-79b9fc1691f6"
      },
      "execution_count": null,
      "outputs": [
        {
          "output_type": "execute_result",
          "data": {
            "text/plain": [
              "array([[0.63991321, 0.50152781],\n",
              "       [0.57744132, 0.1212596 ],\n",
              "       [0.17892605, 0.39753542],\n",
              "       [0.31472796, 0.56818568],\n",
              "       [0.3340331 , 0.05646863],\n",
              "       [0.47138729, 0.32328502]])"
            ]
          },
          "metadata": {},
          "execution_count": 3
        }
      ]
    },
    {
      "cell_type": "markdown",
      "source": [
        "### Uniform distribution [a,b)"
      ],
      "metadata": {
        "id": "RmGrf9l7vLeK"
      }
    },
    {
      "cell_type": "code",
      "source": [
        "# Single value\n",
        "np.random.uniform(low = -10, high = 0)"
      ],
      "metadata": {
        "colab": {
          "base_uri": "https://localhost:8080/"
        },
        "id": "FdTyVLRfvSdY",
        "outputId": "87dbca79-ca55-4d0e-df6d-d653f972745c"
      },
      "execution_count": null,
      "outputs": [
        {
          "output_type": "execute_result",
          "data": {
            "text/plain": [
              "-4.7845026313358785"
            ]
          },
          "metadata": {},
          "execution_count": 8
        }
      ]
    },
    {
      "cell_type": "code",
      "source": [
        "# One dimensional array\n",
        "np.random.uniform(low = -10, high = 0, size = 7)"
      ],
      "metadata": {
        "colab": {
          "base_uri": "https://localhost:8080/"
        },
        "id": "mwZZ8xo3vyUn",
        "outputId": "f7590e0c-09f4-47d1-bd99-33534e5a2578"
      },
      "execution_count": null,
      "outputs": [
        {
          "output_type": "execute_result",
          "data": {
            "text/plain": [
              "array([-3.52271041, -1.91393172, -7.26922773, -0.30452204, -6.5094994 ,\n",
              "       -3.62254441, -7.2141623 ])"
            ]
          },
          "metadata": {},
          "execution_count": 9
        }
      ]
    },
    {
      "cell_type": "code",
      "source": [
        "# Matrix\n",
        "np.random.uniform(low = -10, high = 0, size = (5,1))"
      ],
      "metadata": {
        "colab": {
          "base_uri": "https://localhost:8080/"
        },
        "id": "F4TT3Gz-wKOY",
        "outputId": "b7a7efce-3207-49d2-8a4e-05782f11df89"
      },
      "execution_count": null,
      "outputs": [
        {
          "output_type": "execute_result",
          "data": {
            "text/plain": [
              "array([[-6.7427059 ],\n",
              "       [-0.68250252],\n",
              "       [-7.48301665],\n",
              "       [-3.47268877],\n",
              "       [-7.54955926]])"
            ]
          },
          "metadata": {},
          "execution_count": 10
        }
      ]
    },
    {
      "cell_type": "markdown",
      "source": [
        "** Exercise**\n",
        "\n",
        "Simulate the sale of a shop according to\n",
        "\n",
        "| Scenario | Prob | Sales |\n",
        "|----------|------|-------|\n",
        "| Bad      | 25%  | 60    |\n",
        "| Normal   | 50%  | 80    |\n",
        "| Wow      | 25%  | 100   |\n",
        "\n",
        "For 5 days."
      ],
      "metadata": {
        "id": "bpoEHVO20W1G"
      }
    },
    {
      "cell_type": "code",
      "source": [
        "# A Solution\n",
        "\n",
        "for i in range(1,6):\n",
        "  tmp = np.random.rand()\n",
        "  if tmp <0.25:\n",
        "    print('Day:',i,'Scenario: Bad','Units sold: 60')\n",
        "  elif tmp>0.75:\n",
        "    print('Day:',i,'Scenario: Wow','Units sold: 100')\n",
        "  else:\n",
        "    print('Day:',i,'Scenario: Normal','Units sold: 80')\n"
      ],
      "metadata": {
        "colab": {
          "base_uri": "https://localhost:8080/"
        },
        "id": "pSpMvI5K1IfZ",
        "outputId": "8a9b3a09-a9b2-4d0b-fb02-1072d0d13360"
      },
      "execution_count": null,
      "outputs": [
        {
          "output_type": "stream",
          "name": "stdout",
          "text": [
            "Day: 1 Scenario: Normal Units sold: 80\n",
            "Day: 2 Scenario: Normal Units sold: 80\n",
            "Day: 3 Scenario: Wow Units sold: 100\n",
            "Day: 4 Scenario: Normal Units sold: 80\n",
            "Day: 5 Scenario: Normal Units sold: 80\n"
          ]
        }
      ]
    },
    {
      "cell_type": "markdown",
      "source": [
        "## normal distribution\n",
        "\n",
        "\n"
      ],
      "metadata": {
        "id": "rQ6H_cWeqAFW"
      }
    },
    {
      "cell_type": "code",
      "source": [
        "# normal standard (fila 1)\n",
        "# si quiero mas de un valor debo poner el numero dentro de los parentesis (fila 2) \n",
        "# si quiero una matriz debo poner la dimensiones que quiero (fila 3) \n",
        "\n",
        "np.random.randn()\n",
        "np.random.randn(5)\n",
        "np.random.randn(4,3)"
      ],
      "metadata": {
        "colab": {
          "base_uri": "https://localhost:8080/"
        },
        "id": "-HXaFHIgqEDl",
        "outputId": "dcc62c6d-d244-462e-bdf0-73d3c264f238"
      },
      "execution_count": 3,
      "outputs": [
        {
          "output_type": "execute_result",
          "data": {
            "text/plain": [
              "array([[-0.89150826,  1.13229602, -0.7374582 ],\n",
              "       [ 0.84762173,  1.14243467,  1.19589448],\n",
              "       [-0.1694938 ,  0.48806089,  0.36113324],\n",
              "       [-0.62295593,  0.59937303, -0.82792977]])"
            ]
          },
          "metadata": {},
          "execution_count": 3
        }
      ]
    },
    {
      "cell_type": "code",
      "source": [
        "# normal \n",
        "\n",
        "mu = 0.01\n",
        "sigma = 0.1\n",
        "\n",
        "np.random.normal(mu,sigma)\n",
        "np.random.normal(mu,sigma, size = 5)\n",
        "np.random.normal(mu,sigma, size =(3,1))  "
      ],
      "metadata": {
        "colab": {
          "base_uri": "https://localhost:8080/"
        },
        "id": "3OaZea1fqFT9",
        "outputId": "e44a5651-08d6-4cd3-be83-5c3127affe01"
      },
      "execution_count": 8,
      "outputs": [
        {
          "output_type": "execute_result",
          "data": {
            "text/plain": [
              "array([[-0.04324381],\n",
              "       [ 0.06142491],\n",
              "       [ 0.17012206]])"
            ]
          },
          "metadata": {},
          "execution_count": 8
        }
      ]
    },
    {
      "cell_type": "markdown",
      "source": [],
      "metadata": {
        "id": "cOvvC_sXqE0F"
      }
    }
  ]
}