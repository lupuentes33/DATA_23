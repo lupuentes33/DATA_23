{
  "nbformat": 4,
  "nbformat_minor": 0,
  "metadata": {
    "colab": {
      "provenance": [],
      "authorship_tag": "ABX9TyNVwnH4e2TgzkB2ahJp05Ku",
      "include_colab_link": true
    },
    "kernelspec": {
      "name": "python3",
      "display_name": "Python 3"
    },
    "language_info": {
      "name": "python"
    }
  },
  "cells": [
    {
      "cell_type": "markdown",
      "metadata": {
        "id": "view-in-github",
        "colab_type": "text"
      },
      "source": [
        "<a href=\"https://colab.research.google.com/github/lupuentes33/DATA_23/blob/main/Data_structure.ipynb\" target=\"_parent\"><img src=\"https://colab.research.google.com/assets/colab-badge.svg\" alt=\"Open In Colab\"/></a>"
      ]
    },
    {
      "cell_type": "markdown",
      "source": [
        "# **1. WHAT IS DS?**\n",
        "\n",
        "A DS is an object that let us store than one value \n",
        "\n",
        "Fromally a DS is ** sequence** of value which can be located with an index \n",
        "\n",
        "\n",
        "\n",
        "\n"
      ],
      "metadata": {
        "id": "fuTf5kMrup03"
      }
    },
    {
      "cell_type": "markdown",
      "source": [],
      "metadata": {
        "id": "cDFR6UzXx85a"
      }
    },
    {
      "cell_type": "markdown",
      "source": [
        "# **2. Linear Algebra**\n"
      ],
      "metadata": {
        "id": "5YI2sr40w4U3"
      }
    },
    {
      "cell_type": "markdown",
      "source": [
        "## 2.1. what is Numpy?\n",
        " \n",
        "\n",
        "\n",
        "(numerical python)is a collection of funtions and methods \n"
      ],
      "metadata": {
        "id": "HOe-ROFZw_H3"
      }
    },
    {
      "cell_type": "code",
      "source": [
        "#install the library  \n",
        "\n",
        "import numpy as np\n"
      ],
      "metadata": {
        "id": "c473MtRdxz9q"
      },
      "execution_count": 6,
      "outputs": []
    },
    {
      "cell_type": "markdown",
      "source": [
        "## 2.2. numpy arrays - vectors and matrices "
      ],
      "metadata": {
        "id": "oqDmqwzCydaC"
      }
    },
    {
      "cell_type": "code",
      "source": [
        "#*example 1 - column vector* \n",
        "\n",
        "a = np.array([[1],[2],[3],[4],[5]])\n",
        "print(a)"
      ],
      "metadata": {
        "colab": {
          "base_uri": "https://localhost:8080/"
        },
        "id": "wWynIPQFzwsH",
        "outputId": "9557a45c-2b81-4098-eef0-3744b3701d07"
      },
      "execution_count": 10,
      "outputs": [
        {
          "output_type": "stream",
          "name": "stdout",
          "text": [
            "[[1]\n",
            " [2]\n",
            " [3]\n",
            " [4]\n",
            " [5]]\n"
          ]
        }
      ]
    },
    {
      "cell_type": "code",
      "source": [],
      "metadata": {
        "id": "sayL-wST0piM"
      },
      "execution_count": null,
      "outputs": []
    },
    {
      "cell_type": "code",
      "source": [],
      "metadata": {
        "id": "UFztJQogzwlj"
      },
      "execution_count": null,
      "outputs": []
    },
    {
      "cell_type": "code",
      "source": [],
      "metadata": {
        "id": "_VUZZxdIydHK"
      },
      "execution_count": null,
      "outputs": []
    },
    {
      "cell_type": "code",
      "execution_count": null,
      "metadata": {
        "id": "VD65TyTAuKt9"
      },
      "outputs": [],
      "source": []
    }
  ]
}