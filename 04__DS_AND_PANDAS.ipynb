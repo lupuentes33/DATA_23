{
  "nbformat": 4,
  "nbformat_minor": 0,
  "metadata": {
    "colab": {
      "provenance": [],
      "authorship_tag": "ABX9TyNvmJ8V644wcylXtFHRZta5",
      "include_colab_link": true
    },
    "kernelspec": {
      "name": "python3",
      "display_name": "Python 3"
    },
    "language_info": {
      "name": "python"
    }
  },
  "cells": [
    {
      "cell_type": "markdown",
      "metadata": {
        "id": "view-in-github",
        "colab_type": "text"
      },
      "source": [
        "<a href=\"https://colab.research.google.com/github/lupuentes33/DATA_23/blob/main/04__DS_AND_PANDAS.ipynb\" target=\"_parent\"><img src=\"https://colab.research.google.com/assets/colab-badge.svg\" alt=\"Open In Colab\"/></a>"
      ]
    },
    {
      "cell_type": "markdown",
      "source": [
        "# **1. DS and pandas \n",
        "it is the excell of python "
      ],
      "metadata": {
        "id": "sQQqerlFt86R"
      }
    },
    {
      "cell_type": "code",
      "execution_count": 1,
      "metadata": {
        "id": "4XSW8Hx7thJG"
      },
      "outputs": [],
      "source": [
        "#library pandas \n",
        "\n",
        "import numpy as np\n",
        "import pandas as pd "
      ]
    },
    {
      "cell_type": "markdown",
      "source": [
        "# **2. series**\n",
        "\n",
        "A *series*  os a one dimentional object "
      ],
      "metadata": {
        "id": "NgFJfJp1t9AX"
      }
    },
    {
      "cell_type": "code",
      "source": [
        "## 2.1. series creation \n"
      ],
      "metadata": {
        "id": "7wxTCpP-vCRr"
      },
      "execution_count": null,
      "outputs": []
    },
    {
      "cell_type": "code",
      "source": [
        "# empty series \n",
        "\n",
        "s_empty = pd.Series()\n",
        "print(s_empty)\n"
      ],
      "metadata": {
        "colab": {
          "base_uri": "https://localhost:8080/"
        },
        "id": "CdDLbesevVnq",
        "outputId": "f3a4878e-a8ba-43dc-82a3-38ca61e17901"
      },
      "execution_count": 2,
      "outputs": [
        {
          "output_type": "stream",
          "name": "stdout",
          "text": [
            "Series([], dtype: float64)\n"
          ]
        },
        {
          "output_type": "stream",
          "name": "stderr",
          "text": [
            "<ipython-input-2-6bee35f2c77c>:3: FutureWarning: The default dtype for empty Series will be 'object' instead of 'float64' in a future version. Specify a dtype explicitly to silence this warning.\n",
            "  s_empty = pd.Series()\n"
          ]
        }
      ]
    },
    {
      "cell_type": "code",
      "source": [
        "s_int = pd.Series([1,2,3,4,5,6,7,8,9])\n",
        "print(s_int)"
      ],
      "metadata": {
        "colab": {
          "base_uri": "https://localhost:8080/"
        },
        "id": "6srkKi2Sv5-6",
        "outputId": "894d84fb-4c89-4c65-af78-6dbd244de235"
      },
      "execution_count": 4,
      "outputs": [
        {
          "output_type": "stream",
          "name": "stdout",
          "text": [
            "0    1\n",
            "1    2\n",
            "2    3\n",
            "3    4\n",
            "4    5\n",
            "5    6\n",
            "6    7\n",
            "7    8\n",
            "8    9\n",
            "dtype: int64\n"
          ]
        }
      ]
    },
    {
      "cell_type": "code",
      "source": [
        "print(\"location\",\"names\")\n",
        "s_names = pd.Series([\"nicolas\", \"luisa\",\"jose\"])\n",
        "\n",
        "print(s_names)\n"
      ],
      "metadata": {
        "colab": {
          "base_uri": "https://localhost:8080/"
        },
        "id": "IK5l6STswXEp",
        "outputId": "7c00f0aa-b7e3-4e0e-d5cb-f5c8c8d4aa90"
      },
      "execution_count": 16,
      "outputs": [
        {
          "output_type": "stream",
          "name": "stdout",
          "text": [
            "location names\n",
            "0    nicolas\n",
            "1      luisa\n",
            "2       jose\n",
            "dtype: object\n"
          ]
        }
      ]
    },
    {
      "cell_type": "code",
      "source": [
        "# crate a serie with random numbers\n",
        "\n",
        "s_num = pd.Series(np.random.rand(10))\n",
        "\n",
        "print(s_num)"
      ],
      "metadata": {
        "colab": {
          "base_uri": "https://localhost:8080/"
        },
        "id": "KJt4j78WyL0Y",
        "outputId": "319ad628-6413-4b91-adfc-3a3bcf6cfa0c"
      },
      "execution_count": 37,
      "outputs": [
        {
          "output_type": "stream",
          "name": "stdout",
          "text": [
            "0    0.934231\n",
            "1    0.953674\n",
            "2    0.590717\n",
            "3    0.777311\n",
            "4    0.834880\n",
            "5    0.058538\n",
            "6    0.973469\n",
            "7    0.593926\n",
            "8    0.501418\n",
            "9    0.699969\n",
            "dtype: float64\n"
          ]
        }
      ]
    },
    {
      "cell_type": "markdown",
      "source": [
        "## **indexing in pandas library**\n"
      ],
      "metadata": {
        "id": "Na1a-MdwyxWI"
      }
    },
    {
      "cell_type": "code",
      "source": [
        "#check the index of a series \n",
        "\n",
        "s_name.index"
      ],
      "metadata": {
        "colab": {
          "base_uri": "https://localhost:8080/"
        },
        "id": "TfPLd940y5PL",
        "outputId": "a3bdbeaa-6de7-47ff-9972-435e118ef90b"
      },
      "execution_count": 20,
      "outputs": [
        {
          "output_type": "execute_result",
          "data": {
            "text/plain": [
              "RangeIndex(start=0, stop=10, step=1)"
            ]
          },
          "metadata": {},
          "execution_count": 20
        }
      ]
    },
    {
      "cell_type": "code",
      "source": [
        "# create your own index \n",
        "\n",
        "new_index = [\"a\",\"b\",\"c\"]\n",
        "\n",
        "s_names = s_names.set_axis(new_index)\n",
        "print(s_names)"
      ],
      "metadata": {
        "colab": {
          "base_uri": "https://localhost:8080/"
        },
        "id": "Vj-TA46EzSbD",
        "outputId": "badec073-cdaa-4291-c38a-a867d5888d6f"
      },
      "execution_count": 30,
      "outputs": [
        {
          "output_type": "stream",
          "name": "stdout",
          "text": [
            "a    nicolas\n",
            "b      luisa\n",
            "c       jose\n",
            "dtype: object\n"
          ]
        }
      ]
    },
    {
      "cell_type": "markdown",
      "source": [
        "# **2.3 select and slice**\n",
        "\n"
      ],
      "metadata": {
        "id": "Xj3Yhu7921ra"
      }
    },
    {
      "cell_type": "code",
      "source": [
        "# simple slection \n",
        "\n",
        "s_names[\"b\"]"
      ],
      "metadata": {
        "colab": {
          "base_uri": "https://localhost:8080/",
          "height": 35
        },
        "id": "4g3Tep7120r7",
        "outputId": "af495358-ffa6-43cf-d879-b143490331a5"
      },
      "execution_count": 36,
      "outputs": [
        {
          "output_type": "execute_result",
          "data": {
            "text/plain": [
              "'luisa'"
            ],
            "application/vnd.google.colaboratory.intrinsic+json": {
              "type": "string"
            }
          },
          "metadata": {},
          "execution_count": 36
        }
      ]
    },
    {
      "cell_type": "code",
      "source": [
        "# select different elements\n",
        "\n",
        "s_num[[3,8]]\n"
      ],
      "metadata": {
        "colab": {
          "base_uri": "https://localhost:8080/"
        },
        "id": "o2ArMJyb26oS",
        "outputId": "d89dcf88-ba7d-481e-fa53-c34ed8ee96ea"
      },
      "execution_count": 39,
      "outputs": [
        {
          "output_type": "execute_result",
          "data": {
            "text/plain": [
              "3    0.777311\n",
              "8    0.501418\n",
              "dtype: float64"
            ]
          },
          "metadata": {},
          "execution_count": 39
        }
      ]
    },
    {
      "cell_type": "code",
      "source": [
        "# another way \n",
        "\n",
        "s_num[:3]"
      ],
      "metadata": {
        "colab": {
          "base_uri": "https://localhost:8080/"
        },
        "id": "-LrZCHeh3z5z",
        "outputId": "d82d0ae9-cef4-4ed1-8d3f-32ec15144434"
      },
      "execution_count": 41,
      "outputs": [
        {
          "output_type": "execute_result",
          "data": {
            "text/plain": [
              "0    0.934231\n",
              "1    0.953674\n",
              "2    0.590717\n",
              "dtype: float64"
            ]
          },
          "metadata": {},
          "execution_count": 41
        }
      ]
    }
  ]
}