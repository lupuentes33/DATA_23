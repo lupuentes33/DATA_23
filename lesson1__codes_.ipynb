{
  "nbformat": 4,
  "nbformat_minor": 0,
  "metadata": {
    "colab": {
      "provenance": [],
      "toc_visible": true,
      "authorship_tag": "ABX9TyOABoHv61M6QpQz9RIU1BMX",
      "include_colab_link": true
    },
    "kernelspec": {
      "name": "python3",
      "display_name": "Python 3"
    },
    "language_info": {
      "name": "python"
    }
  },
  "cells": [
    {
      "cell_type": "markdown",
      "metadata": {
        "id": "view-in-github",
        "colab_type": "text"
      },
      "source": [
        "<a href=\"https://colab.research.google.com/github/lupuentes33/DATA_23/blob/main/lesson1__codes_.ipynb\" target=\"_parent\"><img src=\"https://colab.research.google.com/assets/colab-badge.svg\" alt=\"Open In Colab\"/></a>"
      ]
    },
    {
      "cell_type": "markdown",
      "source": [
        "#title\n",
        "##subtitle\n",
        "###text\n",
        "####note \n",
        "\n"
      ],
      "metadata": {
        "id": "-i3_QNM0ch7f"
      }
    },
    {
      "cell_type": "markdown",
      "source": [
        "## subsection 1\n"
      ],
      "metadata": {
        "id": "jnDG3ph8d_kL"
      }
    },
    {
      "cell_type": "code",
      "execution_count": null,
      "metadata": {
        "id": "6V0jYG9zl_3l"
      },
      "outputs": [],
      "source": []
    },
    {
      "cell_type": "markdown",
      "source": [
        "#text formating \n"
      ],
      "metadata": {
        "id": "WAAQtPGVd4jZ"
      }
    },
    {
      "cell_type": "markdown",
      "source": [
        "## bold \n",
        "\n",
        "Using `**`:\n",
        "\n",
        "`**LUISA**` = **LUISA**\n",
        "\n",
        " \n",
        "\n",
        "\n",
        "\n",
        "\n",
        "\n",
        "\n",
        "\n",
        "\n",
        "\n"
      ],
      "metadata": {
        "id": "SSUJN3qffUPP"
      }
    },
    {
      "cell_type": "markdown",
      "source": [
        "## Italic\n",
        "\n",
        "Use `*`\n",
        "\n",
        "`*Barrera*`=*Barrera*\n"
      ],
      "metadata": {
        "id": "IH9IusWokPeZ"
      }
    },
    {
      "cell_type": "markdown",
      "source": [
        "## example \n",
        "\n",
        "**luisa Fernanda**  *Puentes*  ***barrera***"
      ],
      "metadata": {
        "id": "TtbuMJuDkL1v"
      }
    },
    {
      "cell_type": "markdown",
      "source": [
        "## unordered list \n",
        "\n",
        "**List of sport:**\n",
        "* football\n",
        "* basketball\n",
        "* voleyball \n",
        "\n"
      ],
      "metadata": {
        "id": "IsXBgtyRjL11"
      }
    },
    {
      "cell_type": "markdown",
      "source": [
        "## ordered LIST\n",
        "\n",
        "**The Best Singers:**\n",
        "1. rihanna \n",
        "2. Adelle \n"
      ],
      "metadata": {
        "id": "EzGvNU6KjuS_"
      }
    },
    {
      "cell_type": "markdown",
      "source": [
        "## Nested lists \n",
        "\n",
        "**to-do list:**\n",
        "\n",
        "1. traiinig\n",
        "\n",
        "  1.1. wake uo early \n",
        "\n",
        "  1.2.\n",
        "\n",
        "  1.3.\n",
        "\n",
        "2. rest\n",
        "\n",
        "  2.1. sleep\n",
        "\n",
        "\n",
        "\n",
        "\n"
      ],
      "metadata": {
        "id": "-5n3vGd9kd00"
      }
    },
    {
      "cell_type": "markdown",
      "source": [
        "## nested to-do  list for tomorrow\n",
        "\n",
        "1. ***morning:***\n",
        "\n",
        "  1.1. Do homeworks of english \n",
        "\n",
        "  1.2. Start to prepare the topic of final project\n",
        "\n",
        "  1.3. Go to university \n",
        "\n",
        "  1.4. I will attend the class  \n",
        "\n",
        "2. ***afternooon:***\n",
        "\n",
        "  2.1. Go to home\n",
        "\n",
        "  2.2. Preprare the class of english\n",
        "\n",
        "  2.3  Im going to visit my friend \n",
        "\n",
        "  2.4. finally flay videogames    "
      ],
      "metadata": {
        "id": "pND2yLHyleTG"
      }
    },
    {
      "cell_type": "markdown",
      "source": [
        "## Inserts\n",
        "\n",
        "[la salle](https://www.lasalle.edu.co/)\n",
        "\n"
      ],
      "metadata": {
        "id": "84G4rtEmoYAP"
      }
    },
    {
      "cell_type": "markdown",
      "source": [
        "## insert an  image\n",
        "\n",
        "\n",
        " ![download.jfif](data:image/jpeg;base64,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)"
      ],
      "metadata": {
        "id": "nem24jl8pGHy"
      }
    },
    {
      "cell_type": "markdown",
      "source": [
        "## tables \n",
        "\n",
        "| a | b | c | \n",
        "|---|---|---|\n",
        "| 1 | 2 | 3 |\n",
        "| 4 | 5 | 6 |\n",
        "\n",
        "\n",
        "\n",
        "  \n",
        "| Name  | AGE |\n",
        "|-------|-----|\n",
        "| SARA  | 24  |\n",
        "|nicolas| 25  |\n",
        "| Pedro |  37 |\n",
        "|Lorena | 23  | \n",
        "| sofia | 22  | \n",
        "\n"
      ],
      "metadata": {
        "id": "QNWBWNI6qKuT"
      }
    }
  ]
}