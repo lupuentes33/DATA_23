{
  "nbformat": 4,
  "nbformat_minor": 0,
  "metadata": {
    "colab": {
      "provenance": [],
      "toc_visible": true,
      "authorship_tag": "ABX9TyMDv4SBe21xGl1iPLKttnoY",
      "include_colab_link": true
    },
    "kernelspec": {
      "name": "python3",
      "display_name": "Python 3"
    },
    "language_info": {
      "name": "python"
    }
  },
  "cells": [
    {
      "cell_type": "markdown",
      "metadata": {
        "id": "view-in-github",
        "colab_type": "text"
      },
      "source": [
        "<a href=\"https://colab.research.google.com/github/lupuentes33/DATA_23/blob/main/lesson1__codes_.ipynb\" target=\"_parent\"><img src=\"https://colab.research.google.com/assets/colab-badge.svg\" alt=\"Open In Colab\"/></a>"
      ]
    },
    {
      "cell_type": "markdown",
      "source": [
        "#title\n",
        "##subtitle\n",
        "###text\n",
        "####note \n",
        "\n"
      ],
      "metadata": {
        "id": "-i3_QNM0ch7f"
      }
    },
    {
      "cell_type": "markdown",
      "source": [
        "## subsection 1\n"
      ],
      "metadata": {
        "id": "jnDG3ph8d_kL"
      }
    },
    {
      "cell_type": "code",
      "execution_count": null,
      "metadata": {
        "id": "6V0jYG9zl_3l"
      },
      "outputs": [],
      "source": []
    },
    {
      "cell_type": "markdown",
      "source": [
        "#text formating \n"
      ],
      "metadata": {
        "id": "WAAQtPGVd4jZ"
      }
    },
    {
      "cell_type": "markdown",
      "source": [
        "## bold \n",
        "\n",
        "Using `**`:\n",
        "\n",
        "`**LUISA**` = **LUISA**\n",
        "\n",
        " \n",
        "\n",
        "\n",
        "\n",
        "\n",
        "\n",
        "\n",
        "\n",
        "\n",
        "\n"
      ],
      "metadata": {
        "id": "SSUJN3qffUPP"
      }
    },
    {
      "cell_type": "markdown",
      "source": [
        "## Italic\n",
        "\n",
        "Use `*`\n",
        "\n",
        "`*Barrera*`=*Barrera*\n"
      ],
      "metadata": {
        "id": "IH9IusWokPeZ"
      }
    },
    {
      "cell_type": "markdown",
      "source": [
        "## example \n",
        "\n",
        "**luisa Fernanda**  *Puentes*  ***barrera***"
      ],
      "metadata": {
        "id": "TtbuMJuDkL1v"
      }
    },
    {
      "cell_type": "markdown",
      "source": [
        "## unordered list \n",
        "\n",
        "**List of sport:**\n",
        "* football\n",
        "* basketball\n",
        "* voleyball \n",
        "\n"
      ],
      "metadata": {
        "id": "IsXBgtyRjL11"
      }
    },
    {
      "cell_type": "markdown",
      "source": [
        "## ordered LIST\n",
        "\n",
        "**The Best Singers:**\n",
        "1. rihanna \n",
        "2. Adelle \n"
      ],
      "metadata": {
        "id": "EzGvNU6KjuS_"
      }
    },
    {
      "cell_type": "markdown",
      "source": [
        "## Nested lists \n",
        "\n",
        "**to-do list:**\n",
        "\n",
        "1. traiinig\n",
        "\n",
        "  1.1. wake uo early \n",
        "\n",
        "  1.2.\n",
        "\n",
        "  1.3.\n",
        "\n",
        "2. rest\n",
        "  2.1. sleep\n",
        "\n",
        "\n",
        "\n",
        "\n"
      ],
      "metadata": {
        "id": "-5n3vGd9kd00"
      }
    },
    {
      "cell_type": "markdown",
      "source": [
        "## nested to-do  list for tomorrow\n",
        "\n",
        "1. ***morning:***\n",
        "\n",
        "  1.1. Do homeworks of english \n",
        "\n",
        "  1.2. Start to prepare the topic of final project\n",
        "\n",
        "  1.3. Go to university \n",
        "\n",
        "  1.4. I will attend the class  \n",
        "\n",
        "2. ***afternooon:***\n",
        "\n",
        "  2.1. Go to home\n",
        "\n",
        "  2.2. Preprare the class of english\n",
        "\n",
        "  2.3  Im going to visit my friend \n",
        "\n",
        "  2.4. finally flay videogames    "
      ],
      "metadata": {
        "id": "pND2yLHyleTG"
      }
    }
  ]
}