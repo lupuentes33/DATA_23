{
  "nbformat": 4,
  "nbformat_minor": 0,
  "metadata": {
    "colab": {
      "provenance": [],
      "include_colab_link": true
    },
    "kernelspec": {
      "name": "python3",
      "display_name": "Python 3"
    },
    "language_info": {
      "name": "python"
    }
  },
  "cells": [
    {
      "cell_type": "markdown",
      "metadata": {
        "id": "view-in-github",
        "colab_type": "text"
      },
      "source": [
        "<a href=\"https://colab.research.google.com/github/lupuentes33/DATA_23/blob/main/Final_Project.ipynb\" target=\"_parent\"><img src=\"https://colab.research.google.com/assets/colab-badge.svg\" alt=\"Open In Colab\"/></a>"
      ]
    },
    {
      "cell_type": "markdown",
      "source": [
        "# **First Part**\n",
        "\n",
        "Picth\n",
        "\n",
        "Format - .ipynb\n",
        "\n",
        "Contents:\n",
        "\n",
        "1. Variable:\n",
        "\n",
        "    1.1. Name and description.\n",
        "    \n",
        "    1.2. Period or dates. Frequency. Individuals.\n",
        "    \n",
        "    1.3. Sources (with links).\n",
        "\n",
        "2. Goal of the DV\n",
        "\n",
        "    2.1. Story.\n",
        "\n",
        "    2.2. Audience.\n",
        "\n",
        "    2.3. Justify the DV type.\n",
        "\n",
        "3. Examples\n",
        "\n",
        "    3.1. Example A.\n",
        "         * 2.1, 2.2, 2.3.\n",
        "    3.2. Example B.\n",
        "         * 2.1, 2.2, 2.3. \n",
        "\n",
        "Each element worths 1.25 units, the final 1.25 is gven according to order, grammar and aesthetics."
      ],
      "metadata": {
        "id": "B2aXci4fQk5b"
      }
    },
    {
      "cell_type": "markdown",
      "source": [
        "<h1 align = \"center\">\n",
        "<strong> Universidad de La Salle </strong>\n",
        "</h1>\n",
        "\n",
        "<h1 align = \"center\">\n",
        "<strong> International bussiness and relations Program </strong>\n",
        "</h1>\n",
        "\n",
        "<h1 align = \"center\">\n",
        "<strong> Data Visualization  </strong>\n",
        "<h1 align = \"center\">\n",
        "<strong> Project  </strong>\n",
        "\n"
      ],
      "metadata": {
        "id": "OJimg733__Ja"
      }
    },
    {
      "cell_type": "markdown",
      "source": [
        "### **Name: Luisa Fernanda Puentes Barrera**\n",
        "### **code: 64181133**\n",
        "\n",
        "\n"
      ],
      "metadata": {
        "id": "9GRUlBY6AM8K"
      }
    },
    {
      "cell_type": "markdown",
      "source": [
        "### **1. Variable**\n",
        " \n",
        "        "
      ],
      "metadata": {
        "id": "20IrHEqMAlg_"
      }
    },
    {
      "cell_type": "markdown",
      "source": [
        "####1.1 Name and description:\n",
        "* **connetion:** are those people who have a bradband internet suscription\n",
        "* **Safe:** servers that are secure to use \n",
        "* **Online-time:** all the time per day that a person ssurfing in the  web \n",
        "\n",
        "\n"
      ],
      "metadata": {
        "id": "J-qKh-2uBtNK"
      }
    },
    {
      "cell_type": "markdown",
      "source": [
        "####1.2 Period or dates.frecuency and individual:\n",
        "* **Period of date. frecuency :** it will be a time serius for the year 2018 to 2022\n",
        "* **Indivduals:** Countries like: \n",
        "  * Colombia \n",
        "  * Ecuador \n",
        "  * Peru \n",
        "  * China \n",
        "  * United States\n",
        "\n",
        "\n",
        "\n",
        "\n",
        "\n",
        "\n",
        "\n"
      ],
      "metadata": {
        "id": "lpPkCwl_kt0O"
      }
    },
    {
      "cell_type": "markdown",
      "source": [
        "####1.3 Sources (with link):\n",
        "\n",
        "Wifi population uses\n",
        " [wifi](https://datos.bancomundial.org/indicador/IT.CEL.SETS.P2?end=2020&locations=CN-CO-US-MX-PE&most_recent_year_desc=false&start=2016)\n",
        "\n",
        "\n",
        " ---"
      ],
      "metadata": {
        "id": "M87s-IEumVvv"
      }
    },
    {
      "cell_type": "markdown",
      "source": [
        "#### **2. Goal of the DV**\n",
        "\n",
        "         \n",
        "         \n"
      ],
      "metadata": {
        "id": "nDuksuAEA_uV"
      }
    },
    {
      "cell_type": "markdown",
      "source": [
        "**2.1. Story:** In the globalized world in which we find ourselves, digital development and telecommunications require us to be connected, the internet enables personal growth and th development of daily activities.\n"
      ],
      "metadata": {
        "id": "Iuu_hejeqKfN"
      }
    },
    {
      "cell_type": "markdown",
      "source": [
        "**2.2. Audience:**\n",
        "* governments \n",
        "* Ministries \n",
        "* Organizations \n",
        "* Tecommunications company "
      ],
      "metadata": {
        "id": "r5A9PVhbp-pV"
      }
    },
    {
      "cell_type": "markdown",
      "source": [
        "**2.3. Justify the DV type:**\n",
        "\n",
        "* consists of a series of data represented by dots, linked by linear segments. Using this graph, the change in trend of the data can be quickly checked.\n",
        "\n",
        "\n",
        "---\n",
        "\n",
        "\n",
        "\n",
        "\n",
        "\n",
        "\n",
        "\n",
        "      "
      ],
      "metadata": {
        "id": "JvzANR2ZqeOL"
      }
    },
    {
      "cell_type": "markdown",
      "source": [
        "#### **3. Examples**\n",
        "\n",
        "\n"
      ],
      "metadata": {
        "id": "GfegFH12M8Mq"
      }
    },
    {
      "cell_type": "markdown",
      "source": [
        "3.1 \n",
        "\n",
        "EXAMPLE 1:\n",
        "\n",
        "**Manhattan population explorer**\n",
        "\n",
        "![Manhattan population explorer](https://3.bp.blogspot.com/-eeDrwFRa-mE/WvLFEACKNLI/AAAAAAAA1_E/Uu08P1F8NeMb3_pX_ulFLMslhrVtTovbgCLcBGAs/s523/typhoon.gif) \n",
        "\n",
        "\n",
        "\n"
      ],
      "metadata": {
        "id": "8sSnJisiNnKO"
      }
    },
    {
      "cell_type": "markdown",
      "source": [
        "EXAMPLE 2: \n",
        "\n",
        "**Famous books in the last 50 years**\n",
        "\n",
        "![famous books in the last 50 years](https://tclibraryblog.files.wordpress.com/2017/08/1d4b7dda2e6da3793f22c541997b6d59-popular-books-read-books.jpg)"
      ],
      "metadata": {
        "id": "3scWsevJZi37"
      }
    },
    {
      "cell_type": "markdown",
      "source": [
        "#IMPORT DATA FINAL PROYECT SECOND PART#\n",
        "\n",
        "\n",
        "5.1. Import a databaset\n",
        ".xlsx, .csv, .txt\n",
        "\n",
        "First upload the file to Colab\n",
        "\n",
        "Then..."
      ],
      "metadata": {
        "id": "0FQjFVO38E3u"
      }
    },
    {
      "cell_type": "code",
      "source": [
        "import pandas as pd"
      ],
      "metadata": {
        "id": "vADjdfu0D_DM"
      },
      "execution_count": 5,
      "outputs": []
    },
    {
      "cell_type": "code",
      "source": [
        "# Save the path o the file \n",
        "p = \"/content/SUB_WIFI.xlsx\"\n",
        "\n",
        "# Read the file \n",
        "d = pd.read_excel(p)\n",
        "\n",
        "# Check\n",
        "d.info()\n",
        "\n",
        "\n"
      ],
      "metadata": {
        "id": "PP8-a3QO9XgY",
        "outputId": "75ccc040-e373-4d67-d8e2-4db2e6e97b34",
        "colab": {
          "base_uri": "https://localhost:8080/"
        }
      },
      "execution_count": 6,
      "outputs": [
        {
          "output_type": "stream",
          "name": "stdout",
          "text": [
            "<class 'pandas.core.frame.DataFrame'>\n",
            "RangeIndex: 55 entries, 0 to 54\n",
            "Data columns (total 4 columns):\n",
            " #   Column        Non-Null Count  Dtype  \n",
            "---  ------        --------------  -----  \n",
            " 0   PAIS          55 non-null     object \n",
            " 1   CÓDIGO        55 non-null     object \n",
            " 2   AÑO           55 non-null     int64  \n",
            " 3   SUSCRIPTORES  55 non-null     float64\n",
            "dtypes: float64(1), int64(1), object(2)\n",
            "memory usage: 1.8+ KB\n"
          ]
        }
      ]
    },
    {
      "cell_type": "code",
      "source": [],
      "metadata": {
        "id": "kYpQ2X_9DRIV"
      },
      "execution_count": null,
      "outputs": []
    }
  ]
}